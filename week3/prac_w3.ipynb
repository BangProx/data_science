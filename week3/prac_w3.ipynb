{
 "cells": [
  {
   "cell_type": "code",
   "execution_count": 8,
   "id": "14962239",
   "metadata": {},
   "outputs": [
    {
     "name": "stdout",
     "output_type": "stream",
     "text": [
      "8 8\n",
      "10 2\n",
      "13 3\n",
      "13 0\n",
      "20 7\n",
      "20\n"
     ]
    }
   ],
   "source": [
    "#  Write a Python function to sum all the numbers in a list\n",
    "def sum(numbers): \n",
    "    total = 0 \n",
    "    for x in numbers: \n",
    "        total += x \n",
    "    return total \n",
    "\n",
    "num_list = [8,2,3,0,7]\n",
    "print(sum(num_list))\n"
   ]
  },
  {
   "cell_type": "code",
   "execution_count": 10,
   "id": "2f8fc15c",
   "metadata": {},
   "outputs": [
    {
     "name": "stdout",
     "output_type": "stream",
     "text": [
      "True\n"
     ]
    }
   ],
   "source": [
    "# Write a Python function that takes a number as a parameter and checks whether the number is prime or not\n",
    "\n",
    "def test_prime(n): \n",
    "    if (n==1): \n",
    "        return False \n",
    "    elif (n==2): \n",
    "        return True; \n",
    "    else: \n",
    "        for x in range(2,n): \n",
    "            if(n % x==0): \n",
    "                return False \n",
    "        return True \n",
    "\n",
    "print(test_prime(7))"
   ]
  },
  {
   "cell_type": "code",
   "execution_count": 12,
   "id": "aca3de9f",
   "metadata": {},
   "outputs": [
    {
     "name": "stdout",
     "output_type": "stream",
     "text": [
      "True\n"
     ]
    }
   ],
   "source": [
    "# Write a Python function to check whether a number is \"Perfect\" or not.\n",
    "def perfect_number(n): \n",
    "    sum = 0 \n",
    "    for x in range(1, n): \n",
    "        if n % x == 0: \n",
    "            sum += x \n",
    "    return sum == n \n",
    "\n",
    "print(perfect_number(6))\n"
   ]
  },
  {
   "cell_type": "code",
   "execution_count": 14,
   "id": "380ecdbd",
   "metadata": {},
   "outputs": [
    {
     "name": "stdout",
     "output_type": "stream",
     "text": [
      "kim  gets mark of  90\n",
      "the modified mark is  85\n"
     ]
    }
   ],
   "source": [
    "# practice 6-1\n",
    "class Student: \n",
    "    def __init__(self,name,mark):\n",
    "        self.student_name = name\n",
    "        self.student_mark = mark\n",
    "\n",
    "#create Student object with name = \"kim\" and mark = \"90\"\n",
    "s = Student('kim',90)\n",
    "\n",
    "print(s.student_name,\" gets mark of \",s.student_mark)\n",
    "\n",
    "#change mark to 85\n",
    "s.student_mark = 85\n",
    "\n",
    "print(\"the modified mark is \",s.student_mark)\n",
    "\n"
   ]
  },
  {
   "cell_type": "code",
   "execution_count": 25,
   "id": "5ba56139",
   "metadata": {},
   "outputs": [
    {
     "name": "stdout",
     "output_type": "stream",
     "text": [
      "student name is  kim\n",
      "student name is modified\n",
      "park\n"
     ]
    }
   ],
   "source": [
    "# practice 6-2\n",
    "class Student_m: \n",
    "    def __init__(self,name,mark):\n",
    "        self.student_name = name\n",
    "        self.student_mark = mark\n",
    "    def set_Name(self, s):\n",
    "        self.student_name = s\n",
    "    def print_Name(self):\n",
    "        print(self.student_name)\n",
    "        \n",
    "\n",
    "#create Student object with name = \"kim\" and mark = \"90\"\n",
    "s = Student_m('kim',90)\n",
    "\n",
    "print(\"student name is \",s.student_name)\n",
    "\n",
    "#change student nameto 'park'\n",
    "print('student name is modified')\n",
    "s.set_Name('park')\n",
    "s.print_Name()"
   ]
  },
  {
   "cell_type": "code",
   "execution_count": 28,
   "id": "ea57e8b0",
   "metadata": {},
   "outputs": [
    {
     "name": "stdout",
     "output_type": "stream",
     "text": [
      "Employee ID: ADAMS\n",
      "Employee Name: E7876\n",
      "Employee Salary: 50000\n",
      "Employee Dept.: ACCOUNTING\n",
      "Employee ID: ADAMS\n",
      "Employee Name: E7876\n",
      "Employee Salary: 50000\n",
      "Employee Dept.: MARKETING\n",
      "This month salary is  60000.0\n"
     ]
    }
   ],
   "source": [
    "class Employee:\n",
    "    def __init__(self, id, name, salary, department):\n",
    "        self.id = id\n",
    "        self.name = name\n",
    "        self.salary = salary\n",
    "        self.department = department\n",
    "    \n",
    "    def assign_department(self, department):\n",
    "        self.department = department\n",
    "    \n",
    "    def print_employee_details(self):\n",
    "        print('Employee ID:',self.id)\n",
    "        print('Employee Name:',self.name)\n",
    "        print('Employee Salary:',self.salary)\n",
    "        print('Employee Dept.:',self.department)\n",
    "    \n",
    "    def calculate_emp_salary(self,hours_worked):\n",
    "        salary = self.salary\n",
    "        overtime = hours_worked - 50\n",
    "        return salary+(overtime*(salary/50))\n",
    "    \n",
    "employee1 = Employee(\"ADAMS\",\"E7876\",50000,\"ACCOUNTING\")\n",
    "employee2 = Employee(\"JONES\",\"E7499\",45000,\"RESEARCH\")\n",
    "employee3 = Employee(\"MARTIN\",\"E7900\",50000,\"SALES\")\n",
    "employee4 = Employee(\"SMITH\",\"E7698\",55000,\"OPERATIONS\")\n",
    "\n",
    "employee1.print_employee_details()\n",
    "employee1.assign_department(\"MARKETING\")\n",
    "employee1.print_employee_details()\n",
    "print('This month salary is ', employee1.calculate_emp_salary(60))\n",
    "        \n",
    "        "
   ]
  },
  {
   "cell_type": "code",
   "execution_count": 34,
   "id": "2d71fc5b",
   "metadata": {},
   "outputs": [
    {
     "name": "stdout",
     "output_type": "stream",
     "text": [
      "0.5373076026636963\n",
      "[3.1523770936735303, 1.4379900825924383, 1.2739302767061558, 5.830306929868701, 5.433185596637885, 5.491262462360529, 3.498623052608777, 1.26841857432192, 3.7391013029999494, 3.326380850756421]\n",
      "[3.498623052608777, 1.4379900825924383, 1.2739302767061558, 5.491262462360529, 5.830306929868701, 5.433185596637885, 1.26841857432192, 3.7391013029999494, 3.1523770936735303, 3.326380850756421]\n",
      "[3.326380850756421, 3.7391013029999494, 5.830306929868701, 1.4379900825924383, 1.26841857432192]\n"
     ]
    }
   ],
   "source": [
    "import random\n",
    "print(random.random())\n",
    "\n",
    "random_list = []\n",
    "for i in range(10):\n",
    "    random_list.append(random.random()*6)\n",
    "print(random_list)\n",
    "\n",
    "list_shuffled = random.shuffle(random_list)\n",
    "print(random_list)\n",
    "\n",
    "selected_list = random.sample(random_list,5)\n",
    "print(selected_list)"
   ]
  },
  {
   "cell_type": "code",
   "execution_count": null,
   "id": "8d0a06a2",
   "metadata": {},
   "outputs": [],
   "source": []
  }
 ],
 "metadata": {
  "kernelspec": {
   "display_name": "Python 3 (ipykernel)",
   "language": "python",
   "name": "python3"
  },
  "language_info": {
   "codemirror_mode": {
    "name": "ipython",
    "version": 3
   },
   "file_extension": ".py",
   "mimetype": "text/x-python",
   "name": "python",
   "nbconvert_exporter": "python",
   "pygments_lexer": "ipython3",
   "version": "3.10.10"
  }
 },
 "nbformat": 4,
 "nbformat_minor": 5
}
