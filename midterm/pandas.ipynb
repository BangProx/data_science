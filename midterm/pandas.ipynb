{
 "cells": [
  {
   "cell_type": "code",
   "execution_count": 61,
   "id": "84f1d316",
   "metadata": {},
   "outputs": [
    {
     "data": {
      "text/plain": [
       "0    1.0\n",
       "1    2.0\n",
       "2    NaN\n",
       "3    4.0\n",
       "dtype: float64"
      ]
     },
     "execution_count": 61,
     "metadata": {},
     "output_type": "execute_result"
    }
   ],
   "source": [
    "import numpy as np\n",
    "import pandas as pd\n",
    "se = pd.Series([1,2,np.nan,4])\n",
    "se"
   ]
  },
  {
   "cell_type": "code",
   "execution_count": 62,
   "id": "bd1316c8",
   "metadata": {},
   "outputs": [
    {
     "data": {
      "text/plain": [
       "0    False\n",
       "1    False\n",
       "2     True\n",
       "3    False\n",
       "dtype: bool"
      ]
     },
     "execution_count": 62,
     "metadata": {},
     "output_type": "execute_result"
    }
   ],
   "source": [
    "se.isna()"
   ]
  },
  {
   "cell_type": "code",
   "execution_count": 63,
   "id": "9eaab671",
   "metadata": {},
   "outputs": [
    {
     "data": {
      "text/plain": [
       "1"
      ]
     },
     "execution_count": 63,
     "metadata": {},
     "output_type": "execute_result"
    }
   ],
   "source": [
    "sum(se.isna())"
   ]
  },
  {
   "cell_type": "code",
   "execution_count": 64,
   "id": "49e77ea6",
   "metadata": {},
   "outputs": [
    {
     "data": {
      "text/plain": [
       "2   NaN\n",
       "dtype: float64"
      ]
     },
     "execution_count": 64,
     "metadata": {},
     "output_type": "execute_result"
    }
   ],
   "source": [
    "se[se.isna()]"
   ]
  },
  {
   "cell_type": "code",
   "execution_count": 65,
   "id": "6979107e",
   "metadata": {},
   "outputs": [
    {
     "data": {
      "text/plain": [
       "(1.0, 2.0)"
      ]
     },
     "execution_count": 65,
     "metadata": {},
     "output_type": "execute_result"
    }
   ],
   "source": [
    "se[0],se[1]"
   ]
  },
  {
   "cell_type": "code",
   "execution_count": 66,
   "id": "580fa83e",
   "metadata": {},
   "outputs": [
    {
     "data": {
      "text/plain": [
       "a    1.0\n",
       "b    2.0\n",
       "c    NaN\n",
       "d    4.0\n",
       "dtype: float64"
      ]
     },
     "execution_count": 66,
     "metadata": {},
     "output_type": "execute_result"
    }
   ],
   "source": [
    "data = [1,2,np.nan,4]\n",
    "indexed_se = pd.Series(data,index = ['a','b','c','d'])\n",
    "indexed_se"
   ]
  },
  {
   "cell_type": "code",
   "execution_count": 67,
   "id": "7b9230ae",
   "metadata": {},
   "outputs": [
    {
     "data": {
      "text/plain": [
       "1.0"
      ]
     },
     "execution_count": 67,
     "metadata": {},
     "output_type": "execute_result"
    }
   ],
   "source": [
    "indexed_se['a']"
   ]
  },
  {
   "cell_type": "code",
   "execution_count": 68,
   "id": "54c49bd6",
   "metadata": {},
   "outputs": [
    {
     "data": {
      "text/plain": [
       "1.0"
      ]
     },
     "execution_count": 68,
     "metadata": {},
     "output_type": "execute_result"
    }
   ],
   "source": [
    "indexed_se[0]"
   ]
  },
  {
   "cell_type": "code",
   "execution_count": 69,
   "id": "c59d5a57",
   "metadata": {},
   "outputs": [
    {
     "data": {
      "text/plain": [
       "4.0"
      ]
     },
     "execution_count": 69,
     "metadata": {},
     "output_type": "execute_result"
    }
   ],
   "source": [
    "indexed_se['d']"
   ]
  },
  {
   "cell_type": "code",
   "execution_count": 70,
   "id": "a7ce52ec",
   "metadata": {},
   "outputs": [
    {
     "name": "stdout",
     "output_type": "stream",
     "text": [
      "동윤이네 상점 수익\n"
     ]
    },
    {
     "data": {
      "text/plain": [
       "1월    9500\n",
       "2월    6200\n",
       "3월    6050\n",
       "4월    7000\n",
       "dtype: int64"
      ]
     },
     "execution_count": 70,
     "metadata": {},
     "output_type": "execute_result"
    }
   ],
   "source": [
    "income = {'1월':9500,'2월':6200,'3월':6050,'4월':7000}\n",
    "income_se = pd.Series(income)\n",
    "print('동윤이네 상점 수익')\n",
    "income_se"
   ]
  },
  {
   "cell_type": "code",
   "execution_count": 71,
   "id": "b50d6251",
   "metadata": {},
   "outputs": [
    {
     "name": "stdout",
     "output_type": "stream",
     "text": [
      "월 최대 수익:  9500 , 월 평균 수익:  7187.5\n"
     ]
    }
   ],
   "source": [
    "print('월 최대 수익: ',income_se.max()\\\n",
    "     ,', 월 평균 수익: ',income_se.mean())"
   ]
  },
  {
   "cell_type": "code",
   "execution_count": 72,
   "id": "a4254245",
   "metadata": {},
   "outputs": [
    {
     "data": {
      "text/html": [
       "<div>\n",
       "<style scoped>\n",
       "    .dataframe tbody tr th:only-of-type {\n",
       "        vertical-align: middle;\n",
       "    }\n",
       "\n",
       "    .dataframe tbody tr th {\n",
       "        vertical-align: top;\n",
       "    }\n",
       "\n",
       "    .dataframe thead th {\n",
       "        text-align: right;\n",
       "    }\n",
       "</style>\n",
       "<table border=\"1\" class=\"dataframe\">\n",
       "  <thead>\n",
       "    <tr style=\"text-align: right;\">\n",
       "      <th></th>\n",
       "      <th>월</th>\n",
       "      <th>수입</th>\n",
       "      <th>비용</th>\n",
       "    </tr>\n",
       "  </thead>\n",
       "  <tbody>\n",
       "    <tr>\n",
       "      <th>0</th>\n",
       "      <td>1월</td>\n",
       "      <td>9500</td>\n",
       "      <td>5040</td>\n",
       "    </tr>\n",
       "    <tr>\n",
       "      <th>1</th>\n",
       "      <td>2월</td>\n",
       "      <td>6200</td>\n",
       "      <td>2350</td>\n",
       "    </tr>\n",
       "    <tr>\n",
       "      <th>2</th>\n",
       "      <td>3월</td>\n",
       "      <td>6050</td>\n",
       "      <td>2300</td>\n",
       "    </tr>\n",
       "    <tr>\n",
       "      <th>3</th>\n",
       "      <td>4월</td>\n",
       "      <td>7000</td>\n",
       "      <td>4800</td>\n",
       "    </tr>\n",
       "  </tbody>\n",
       "</table>\n",
       "</div>"
      ],
      "text/plain": [
       "    월    수입    비용\n",
       "0  1월  9500  5040\n",
       "1  2월  6200  2350\n",
       "2  3월  6050  2300\n",
       "3  4월  7000  4800"
      ]
     },
     "execution_count": 72,
     "metadata": {},
     "output_type": "execute_result"
    }
   ],
   "source": [
    "month_se = pd.Series(['1월','2월','3월','4월'])\n",
    "income_se = pd.Series([9500,6200,6050,7000])\n",
    "expenses_se = pd.Series([5040,2350,2300,4800])\n",
    "df = pd.DataFrame({'월' : month_se,\n",
    "                  '수입' : income_se,\n",
    "                  '비용' : expenses_se})\n",
    "df"
   ]
  },
  {
   "cell_type": "code",
   "execution_count": 73,
   "id": "6706df43",
   "metadata": {},
   "outputs": [],
   "source": [
    "path = 'https://github.com/dongupak/DataML/raw/main/csv/'\n",
    "file = path + 'vehicle_prod.csv'\n",
    "df = pd.read_csv(file,index_col = 0)"
   ]
  },
  {
   "cell_type": "code",
   "execution_count": 74,
   "id": "9ea94e93",
   "metadata": {},
   "outputs": [
    {
     "name": "stdout",
     "output_type": "stream",
     "text": [
      "         2007   2008   2009   2010   2011\n",
      "China    7.71   7.95  11.96  15.84  16.33\n",
      "EU      19.02  17.71  15.00  16.70  17.48\n",
      "US      10.47   8.45   5.58   7.60   8.40\n",
      "Japan   10.87  10.83   7.55   9.09   7.88\n",
      "Korea    4.04   3.78   3.45   4.20   4.62\n",
      "Mexico   2.01   2.05   1.50   2.25   2.54\n"
     ]
    }
   ],
   "source": [
    "print(df)"
   ]
  },
  {
   "cell_type": "code",
   "execution_count": 75,
   "id": "d68a52fa",
   "metadata": {},
   "outputs": [
    {
     "data": {
      "text/plain": [
       "(Index(['2007', '2008', '2009', '2010', '2011'], dtype='object'),\n",
       " Index(['China', 'EU', 'US', 'Japan', 'Korea', 'Mexico'], dtype='object'))"
      ]
     },
     "execution_count": 75,
     "metadata": {},
     "output_type": "execute_result"
    }
   ],
   "source": [
    "df.columns, df.index"
   ]
  },
  {
   "cell_type": "code",
   "execution_count": 76,
   "id": "6f4d41c3",
   "metadata": {},
   "outputs": [
    {
     "data": {
      "text/plain": [
       "'2007'"
      ]
     },
     "execution_count": 76,
     "metadata": {},
     "output_type": "execute_result"
    }
   ],
   "source": [
    "df.columns[0]"
   ]
  },
  {
   "cell_type": "code",
   "execution_count": 77,
   "id": "2b43abe2",
   "metadata": {},
   "outputs": [
    {
     "data": {
      "text/plain": [
       "China      7.71\n",
       "EU        19.02\n",
       "US        10.47\n",
       "Japan     10.87\n",
       "Korea      4.04\n",
       "Mexico     2.01\n",
       "Name: 2007, dtype: float64"
      ]
     },
     "execution_count": 77,
     "metadata": {},
     "output_type": "execute_result"
    }
   ],
   "source": [
    "df['2007']"
   ]
  },
  {
   "cell_type": "code",
   "execution_count": 78,
   "id": "1f3149af",
   "metadata": {},
   "outputs": [
    {
     "data": {
      "text/plain": [
       "['2007', '2008', '2009', '2010', '2011']"
      ]
     },
     "execution_count": 78,
     "metadata": {},
     "output_type": "execute_result"
    }
   ],
   "source": [
    "df.columns.tolist()"
   ]
  },
  {
   "cell_type": "code",
   "execution_count": 79,
   "id": "72cc5f0a",
   "metadata": {},
   "outputs": [
    {
     "data": {
      "text/plain": [
       "[7.71, 19.02, 10.47, 10.87, 4.04, 2.01]"
      ]
     },
     "execution_count": 79,
     "metadata": {},
     "output_type": "execute_result"
    }
   ],
   "source": [
    "df['2007'].tolist()"
   ]
  },
  {
   "cell_type": "code",
   "execution_count": 80,
   "id": "01e59d9d",
   "metadata": {},
   "outputs": [
    {
     "data": {
      "text/html": [
       "<div>\n",
       "<style scoped>\n",
       "    .dataframe tbody tr th:only-of-type {\n",
       "        vertical-align: middle;\n",
       "    }\n",
       "\n",
       "    .dataframe tbody tr th {\n",
       "        vertical-align: top;\n",
       "    }\n",
       "\n",
       "    .dataframe thead th {\n",
       "        text-align: right;\n",
       "    }\n",
       "</style>\n",
       "<table border=\"1\" class=\"dataframe\">\n",
       "  <thead>\n",
       "    <tr style=\"text-align: right;\">\n",
       "      <th></th>\n",
       "      <th>A</th>\n",
       "      <th>C</th>\n",
       "      <th>D</th>\n",
       "    </tr>\n",
       "  </thead>\n",
       "  <tbody>\n",
       "    <tr>\n",
       "      <th>0</th>\n",
       "      <td>10</td>\n",
       "      <td>30</td>\n",
       "      <td>40</td>\n",
       "    </tr>\n",
       "    <tr>\n",
       "      <th>1</th>\n",
       "      <td>50</td>\n",
       "      <td>70</td>\n",
       "      <td>80</td>\n",
       "    </tr>\n",
       "  </tbody>\n",
       "</table>\n",
       "</div>"
      ],
      "text/plain": [
       "    A   C   D\n",
       "0  10  30  40\n",
       "1  50  70  80"
      ]
     },
     "execution_count": 80,
     "metadata": {},
     "output_type": "execute_result"
    }
   ],
   "source": [
    "d_df = pd.DataFrame(data = [[10,20,30,40],[50,60,70,80]],\n",
    "                    columns = ['A','B','C','D'])\n",
    "new_df = d_df.drop('B',axis = 1, inplace = False)\n",
    "new_df"
   ]
  },
  {
   "cell_type": "code",
   "execution_count": 81,
   "id": "001a0895",
   "metadata": {},
   "outputs": [
    {
     "data": {
      "text/html": [
       "<div>\n",
       "<style scoped>\n",
       "    .dataframe tbody tr th:only-of-type {\n",
       "        vertical-align: middle;\n",
       "    }\n",
       "\n",
       "    .dataframe tbody tr th {\n",
       "        vertical-align: top;\n",
       "    }\n",
       "\n",
       "    .dataframe thead th {\n",
       "        text-align: right;\n",
       "    }\n",
       "</style>\n",
       "<table border=\"1\" class=\"dataframe\">\n",
       "  <thead>\n",
       "    <tr style=\"text-align: right;\">\n",
       "      <th></th>\n",
       "      <th>A</th>\n",
       "      <th>B</th>\n",
       "      <th>C</th>\n",
       "      <th>D</th>\n",
       "    </tr>\n",
       "  </thead>\n",
       "  <tbody>\n",
       "    <tr>\n",
       "      <th>0</th>\n",
       "      <td>10</td>\n",
       "      <td>20</td>\n",
       "      <td>30</td>\n",
       "      <td>40</td>\n",
       "    </tr>\n",
       "    <tr>\n",
       "      <th>1</th>\n",
       "      <td>50</td>\n",
       "      <td>60</td>\n",
       "      <td>70</td>\n",
       "      <td>80</td>\n",
       "    </tr>\n",
       "  </tbody>\n",
       "</table>\n",
       "</div>"
      ],
      "text/plain": [
       "    A   B   C   D\n",
       "0  10  20  30  40\n",
       "1  50  60  70  80"
      ]
     },
     "execution_count": 81,
     "metadata": {},
     "output_type": "execute_result"
    }
   ],
   "source": [
    "d_df"
   ]
  },
  {
   "cell_type": "code",
   "execution_count": 82,
   "id": "7792dd27",
   "metadata": {},
   "outputs": [
    {
     "data": {
      "text/html": [
       "<div>\n",
       "<style scoped>\n",
       "    .dataframe tbody tr th:only-of-type {\n",
       "        vertical-align: middle;\n",
       "    }\n",
       "\n",
       "    .dataframe tbody tr th {\n",
       "        vertical-align: top;\n",
       "    }\n",
       "\n",
       "    .dataframe thead th {\n",
       "        text-align: right;\n",
       "    }\n",
       "</style>\n",
       "<table border=\"1\" class=\"dataframe\">\n",
       "  <thead>\n",
       "    <tr style=\"text-align: right;\">\n",
       "      <th></th>\n",
       "      <th>A</th>\n",
       "      <th>B</th>\n",
       "      <th>C</th>\n",
       "      <th>D</th>\n",
       "    </tr>\n",
       "  </thead>\n",
       "  <tbody>\n",
       "    <tr>\n",
       "      <th>1</th>\n",
       "      <td>50</td>\n",
       "      <td>60</td>\n",
       "      <td>70</td>\n",
       "      <td>80</td>\n",
       "    </tr>\n",
       "  </tbody>\n",
       "</table>\n",
       "</div>"
      ],
      "text/plain": [
       "    A   B   C   D\n",
       "1  50  60  70  80"
      ]
     },
     "execution_count": 82,
     "metadata": {},
     "output_type": "execute_result"
    }
   ],
   "source": [
    "new_df2 = d_df.drop(0,axis = 0,inplace = False)\n",
    "new_df2"
   ]
  },
  {
   "cell_type": "code",
   "execution_count": 83,
   "id": "55e54cc4",
   "metadata": {},
   "outputs": [
    {
     "data": {
      "text/plain": [
       "<Axes: >"
      ]
     },
     "execution_count": 83,
     "metadata": {},
     "output_type": "execute_result"
    },
    {
     "data": {
      "image/png": "[encoded data removed]",
      "text/plain": [
       "<Figure size 640x480 with 1 Axes>"
      ]
     },
     "metadata": {},
     "output_type": "display_data"
    }
   ],
   "source": [
    "df['2007'].plot(kind = 'bar',color = ('orange','r','b','m','c','k'))"
   ]
  },
  {
   "cell_type": "code",
   "execution_count": 84,
   "id": "9675cc50",
   "metadata": {},
   "outputs": [
    {
     "data": {
      "text/plain": [
       "<Axes: ylabel='2007'>"
      ]
     },
     "execution_count": 84,
     "metadata": {},
     "output_type": "execute_result"
    },
    {
     "data": {
      "image/png": "[encoded data removed]",
      "text/plain": [
       "<Figure size 640x480 with 1 Axes>"
      ]
     },
     "metadata": {},
     "output_type": "display_data"
    }
   ],
   "source": [
    "df['2007'].plot(kind='pie')"
   ]
  },
  {
   "cell_type": "code",
   "execution_count": 85,
   "id": "6fbde796",
   "metadata": {},
   "outputs": [
    {
     "data": {
      "text/plain": [
       "2007    4.04\n",
       "2008    3.78\n",
       "2009    3.45\n",
       "2010    4.20\n",
       "2011    4.62\n",
       "Name: Korea, dtype: float64"
      ]
     },
     "execution_count": 85,
     "metadata": {},
     "output_type": "execute_result"
    }
   ],
   "source": [
    "df.loc['Korea']"
   ]
  },
  {
   "cell_type": "code",
   "execution_count": 86,
   "id": "e69b28f3",
   "metadata": {},
   "outputs": [
    {
     "data": {
      "text/plain": [
       "4.62"
      ]
     },
     "execution_count": 86,
     "metadata": {},
     "output_type": "execute_result"
    }
   ],
   "source": [
    "df.loc['Korea','2011']"
   ]
  },
  {
   "cell_type": "code",
   "execution_count": 92,
   "id": "4f45884a",
   "metadata": {},
   "outputs": [
    {
     "data": {
      "text/plain": [
       "China     16.33\n",
       "EU        17.48\n",
       "US         8.40\n",
       "Japan      7.88\n",
       "Korea      4.62\n",
       "Mexico     2.54\n",
       "Name: 2011, dtype: float64"
      ]
     },
     "execution_count": 92,
     "metadata": {},
     "output_type": "execute_result"
    }
   ],
   "source": [
    "df['2011']"
   ]
  },
  {
   "cell_type": "code",
   "execution_count": 93,
   "id": "4dd9cee4",
   "metadata": {},
   "outputs": [
    {
     "data": {
      "text/plain": [
       "2007     7.71\n",
       "2008     7.95\n",
       "2009    11.96\n",
       "2010    15.84\n",
       "2011    16.33\n",
       "Name: China, dtype: float64"
      ]
     },
     "execution_count": 93,
     "metadata": {},
     "output_type": "execute_result"
    }
   ],
   "source": [
    "df.iloc[0]"
   ]
  },
  {
   "cell_type": "code",
   "execution_count": 94,
   "id": "2fa6eba5",
   "metadata": {},
   "outputs": [
    {
     "data": {
      "text/html": [
       "<div>\n",
       "<style scoped>\n",
       "    .dataframe tbody tr th:only-of-type {\n",
       "        vertical-align: middle;\n",
       "    }\n",
       "\n",
       "    .dataframe tbody tr th {\n",
       "        vertical-align: top;\n",
       "    }\n",
       "\n",
       "    .dataframe thead th {\n",
       "        text-align: right;\n",
       "    }\n",
       "</style>\n",
       "<table border=\"1\" class=\"dataframe\">\n",
       "  <thead>\n",
       "    <tr style=\"text-align: right;\">\n",
       "      <th></th>\n",
       "      <th>2007</th>\n",
       "      <th>2008</th>\n",
       "      <th>2009</th>\n",
       "      <th>2010</th>\n",
       "      <th>2011</th>\n",
       "    </tr>\n",
       "  </thead>\n",
       "  <tbody>\n",
       "    <tr>\n",
       "      <th>US</th>\n",
       "      <td>10.47</td>\n",
       "      <td>8.45</td>\n",
       "      <td>5.58</td>\n",
       "      <td>7.60</td>\n",
       "      <td>8.40</td>\n",
       "    </tr>\n",
       "    <tr>\n",
       "      <th>Japan</th>\n",
       "      <td>10.87</td>\n",
       "      <td>10.83</td>\n",
       "      <td>7.55</td>\n",
       "      <td>9.09</td>\n",
       "      <td>7.88</td>\n",
       "    </tr>\n",
       "  </tbody>\n",
       "</table>\n",
       "</div>"
      ],
      "text/plain": [
       "        2007   2008  2009  2010  2011\n",
       "US     10.47   8.45  5.58  7.60  8.40\n",
       "Japan  10.87  10.83  7.55  9.09  7.88"
      ]
     },
     "execution_count": 94,
     "metadata": {},
     "output_type": "execute_result"
    }
   ],
   "source": [
    "df.iloc[2:4]"
   ]
  },
  {
   "cell_type": "code",
   "execution_count": 95,
   "id": "d4143ea1",
   "metadata": {},
   "outputs": [
    {
     "data": {
      "text/html": [
       "<div>\n",
       "<style scoped>\n",
       "    .dataframe tbody tr th:only-of-type {\n",
       "        vertical-align: middle;\n",
       "    }\n",
       "\n",
       "    .dataframe tbody tr th {\n",
       "        vertical-align: top;\n",
       "    }\n",
       "\n",
       "    .dataframe thead th {\n",
       "        text-align: right;\n",
       "    }\n",
       "</style>\n",
       "<table border=\"1\" class=\"dataframe\">\n",
       "  <thead>\n",
       "    <tr style=\"text-align: right;\">\n",
       "      <th></th>\n",
       "      <th>2007</th>\n",
       "      <th>2008</th>\n",
       "      <th>2009</th>\n",
       "      <th>2010</th>\n",
       "      <th>2011</th>\n",
       "    </tr>\n",
       "  </thead>\n",
       "  <tbody>\n",
       "    <tr>\n",
       "      <th>US</th>\n",
       "      <td>10.47</td>\n",
       "      <td>8.45</td>\n",
       "      <td>5.58</td>\n",
       "      <td>7.60</td>\n",
       "      <td>8.40</td>\n",
       "    </tr>\n",
       "    <tr>\n",
       "      <th>Japan</th>\n",
       "      <td>10.87</td>\n",
       "      <td>10.83</td>\n",
       "      <td>7.55</td>\n",
       "      <td>9.09</td>\n",
       "      <td>7.88</td>\n",
       "    </tr>\n",
       "  </tbody>\n",
       "</table>\n",
       "</div>"
      ],
      "text/plain": [
       "        2007   2008  2009  2010  2011\n",
       "US     10.47   8.45  5.58  7.60  8.40\n",
       "Japan  10.87  10.83  7.55  9.09  7.88"
      ]
     },
     "execution_count": 95,
     "metadata": {},
     "output_type": "execute_result"
    }
   ],
   "source": [
    "df.iloc[[2,3]]"
   ]
  },
  {
   "cell_type": "code",
   "execution_count": 96,
   "id": "26170d88",
   "metadata": {},
   "outputs": [
    {
     "data": {
      "text/html": [
       "<div>\n",
       "<style scoped>\n",
       "    .dataframe tbody tr th:only-of-type {\n",
       "        vertical-align: middle;\n",
       "    }\n",
       "\n",
       "    .dataframe tbody tr th {\n",
       "        vertical-align: top;\n",
       "    }\n",
       "\n",
       "    .dataframe thead th {\n",
       "        text-align: right;\n",
       "    }\n",
       "</style>\n",
       "<table border=\"1\" class=\"dataframe\">\n",
       "  <thead>\n",
       "    <tr style=\"text-align: right;\">\n",
       "      <th></th>\n",
       "      <th>2007</th>\n",
       "      <th>2008</th>\n",
       "      <th>2009</th>\n",
       "      <th>2010</th>\n",
       "      <th>2011</th>\n",
       "    </tr>\n",
       "  </thead>\n",
       "  <tbody>\n",
       "    <tr>\n",
       "      <th>US</th>\n",
       "      <td>10.47</td>\n",
       "      <td>8.45</td>\n",
       "      <td>5.58</td>\n",
       "      <td>7.60</td>\n",
       "      <td>8.40</td>\n",
       "    </tr>\n",
       "    <tr>\n",
       "      <th>Japan</th>\n",
       "      <td>10.87</td>\n",
       "      <td>10.83</td>\n",
       "      <td>7.55</td>\n",
       "      <td>9.09</td>\n",
       "      <td>7.88</td>\n",
       "    </tr>\n",
       "  </tbody>\n",
       "</table>\n",
       "</div>"
      ],
      "text/plain": [
       "        2007   2008  2009  2010  2011\n",
       "US     10.47   8.45  5.58  7.60  8.40\n",
       "Japan  10.87  10.83  7.55  9.09  7.88"
      ]
     },
     "execution_count": 96,
     "metadata": {},
     "output_type": "execute_result"
    }
   ],
   "source": [
    "df[2:4]"
   ]
  },
  {
   "cell_type": "code",
   "execution_count": 97,
   "id": "5cc3834b",
   "metadata": {},
   "outputs": [],
   "source": [
    "path = 'https://github.com/dongupak/DataML/raw/main/csv/'\n",
    "file = path+'weather.csv' #measurement of wind speed in Ulreung Island (mean temperature, max windspeed, mean windspeed)\n",
    "weather = pd.read_csv(file, index_col=0,encoding='CP949')"
   ]
  },
  {
   "cell_type": "code",
   "execution_count": 98,
   "id": "5a593094",
   "metadata": {},
   "outputs": [
    {
     "name": "stdout",
     "output_type": "stream",
     "text": [
      "            평균기온  최대풍속  평균풍속\n",
      "일시                          \n",
      "2010-08-01  28.7   8.3   3.4\n",
      "2010-08-02  25.2   8.7   3.8\n",
      "2010-08-03  22.1   6.3   2.9\n"
     ]
    }
   ],
   "source": [
    "print(weather.head(3))"
   ]
  },
  {
   "cell_type": "code",
   "execution_count": 102,
   "id": "3dd2f4fd",
   "metadata": {},
   "outputs": [
    {
     "name": "stdout",
     "output_type": "stream",
     "text": [
      "(3653, 3)\n"
     ]
    }
   ],
   "source": [
    "print(weather.shape)"
   ]
  },
  {
   "cell_type": "code",
   "execution_count": 103,
   "id": "631c0ae4",
   "metadata": {},
   "outputs": [
    {
     "data": {
      "text/plain": [
       "평균기온    3653\n",
       "최대풍속    3649\n",
       "평균풍속    3647\n",
       "dtype: int64"
      ]
     },
     "execution_count": 103,
     "metadata": {},
     "output_type": "execute_result"
    }
   ],
   "source": [
    "weather.count()"
   ]
  },
  {
   "cell_type": "code",
   "execution_count": 105,
   "id": "5558a1db",
   "metadata": {},
   "outputs": [
    {
     "name": "stdout",
     "output_type": "stream",
     "text": [
      "            평균기온  최대풍속  평균풍속\n",
      "일시                          \n",
      "2012-02-11  -0.7   NaN   NaN\n",
      "2012-02-12   0.4   NaN   NaN\n",
      "2012-02-13   4.0   NaN   NaN\n",
      "2015-03-22  10.1  11.6   NaN\n",
      "2015-04-01   7.3  12.1   NaN\n",
      "2019-04-18  15.7  11.7   NaN\n"
     ]
    }
   ],
   "source": [
    "missing_data = weather[weather['평균풍속'].isna()]\n",
    "print(missing_data)"
   ]
  },
  {
   "cell_type": "code",
   "execution_count": 106,
   "id": "8181b5e4",
   "metadata": {},
   "outputs": [
    {
     "name": "stdout",
     "output_type": "stream",
     "text": [
      "평균기온   -0.7\n",
      "최대풍속    0.0\n",
      "평균풍속    0.0\n",
      "Name: 2012-02-11, dtype: float64\n"
     ]
    }
   ],
   "source": [
    "weather.fillna(0,inplace = True)\n",
    "print(weather.loc['2012-02-11'])"
   ]
  },
  {
   "cell_type": "code",
   "execution_count": 108,
   "id": "18340fcb",
   "metadata": {},
   "outputs": [
    {
     "data": {
      "text/plain": [
       "Int64Index([2018, 2018, 2018, 2018], dtype='int64')"
      ]
     },
     "execution_count": 108,
     "metadata": {},
     "output_type": "execute_result"
    }
   ],
   "source": [
    "d_list = ['01/03/2018','01-03-2018','2018-01-05','2018/01/06']\n",
    "pd.DatetimeIndex(d_list).year"
   ]
  },
  {
   "cell_type": "code",
   "execution_count": 112,
   "id": "dfff054f",
   "metadata": {},
   "outputs": [
    {
     "data": {
      "text/plain": [
       "Int64Index([1, 1, 1, 1], dtype='int64')"
      ]
     },
     "execution_count": 112,
     "metadata": {},
     "output_type": "execute_result"
    }
   ],
   "source": [
    "pd.DatetimeIndex(d_list).month"
   ]
  },
  {
   "cell_type": "code",
   "execution_count": 114,
   "id": "dbc34214",
   "metadata": {},
   "outputs": [
    {
     "data": {
      "text/html": [
       "<div>\n",
       "<style scoped>\n",
       "    .dataframe tbody tr th:only-of-type {\n",
       "        vertical-align: middle;\n",
       "    }\n",
       "\n",
       "    .dataframe tbody tr th {\n",
       "        vertical-align: top;\n",
       "    }\n",
       "\n",
       "    .dataframe thead th {\n",
       "        text-align: right;\n",
       "    }\n",
       "</style>\n",
       "<table border=\"1\" class=\"dataframe\">\n",
       "  <thead>\n",
       "    <tr style=\"text-align: right;\">\n",
       "      <th></th>\n",
       "      <th>평균기온</th>\n",
       "      <th>최대풍속</th>\n",
       "      <th>평균풍속</th>\n",
       "    </tr>\n",
       "    <tr>\n",
       "      <th>일시</th>\n",
       "      <th></th>\n",
       "      <th></th>\n",
       "      <th></th>\n",
       "    </tr>\n",
       "  </thead>\n",
       "  <tbody>\n",
       "    <tr>\n",
       "      <th>2010-08-04</th>\n",
       "      <td>25.3</td>\n",
       "      <td>6.6</td>\n",
       "      <td>4.2</td>\n",
       "    </tr>\n",
       "    <tr>\n",
       "      <th>2010-08-05</th>\n",
       "      <td>27.2</td>\n",
       "      <td>9.1</td>\n",
       "      <td>5.6</td>\n",
       "    </tr>\n",
       "    <tr>\n",
       "      <th>2010-08-06</th>\n",
       "      <td>26.8</td>\n",
       "      <td>9.8</td>\n",
       "      <td>8.0</td>\n",
       "    </tr>\n",
       "    <tr>\n",
       "      <th>2010-08-07</th>\n",
       "      <td>27.5</td>\n",
       "      <td>9.1</td>\n",
       "      <td>5.0</td>\n",
       "    </tr>\n",
       "    <tr>\n",
       "      <th>2010-08-10</th>\n",
       "      <td>25.6</td>\n",
       "      <td>10.2</td>\n",
       "      <td>5.5</td>\n",
       "    </tr>\n",
       "    <tr>\n",
       "      <th>...</th>\n",
       "      <td>...</td>\n",
       "      <td>...</td>\n",
       "      <td>...</td>\n",
       "    </tr>\n",
       "    <tr>\n",
       "      <th>2020-07-01</th>\n",
       "      <td>16.8</td>\n",
       "      <td>19.7</td>\n",
       "      <td>8.7</td>\n",
       "    </tr>\n",
       "    <tr>\n",
       "      <th>2020-07-11</th>\n",
       "      <td>20.1</td>\n",
       "      <td>10.3</td>\n",
       "      <td>4.1</td>\n",
       "    </tr>\n",
       "    <tr>\n",
       "      <th>2020-07-13</th>\n",
       "      <td>17.8</td>\n",
       "      <td>10.3</td>\n",
       "      <td>4.6</td>\n",
       "    </tr>\n",
       "    <tr>\n",
       "      <th>2020-07-14</th>\n",
       "      <td>17.8</td>\n",
       "      <td>12.7</td>\n",
       "      <td>9.4</td>\n",
       "    </tr>\n",
       "    <tr>\n",
       "      <th>2020-07-20</th>\n",
       "      <td>23.0</td>\n",
       "      <td>11.2</td>\n",
       "      <td>7.3</td>\n",
       "    </tr>\n",
       "  </tbody>\n",
       "</table>\n",
       "<p>1479 rows × 3 columns</p>\n",
       "</div>"
      ],
      "text/plain": [
       "            평균기온  최대풍속  평균풍속\n",
       "일시                          \n",
       "2010-08-04  25.3   6.6   4.2\n",
       "2010-08-05  27.2   9.1   5.6\n",
       "2010-08-06  26.8   9.8   8.0\n",
       "2010-08-07  27.5   9.1   5.0\n",
       "2010-08-10  25.6  10.2   5.5\n",
       "...          ...   ...   ...\n",
       "2020-07-01  16.8  19.7   8.7\n",
       "2020-07-11  20.1  10.3   4.1\n",
       "2020-07-13  17.8  10.3   4.6\n",
       "2020-07-14  17.8  12.7   9.4\n",
       "2020-07-20  23.0  11.2   7.3\n",
       "\n",
       "[1479 rows x 3 columns]"
      ]
     },
     "execution_count": 114,
     "metadata": {},
     "output_type": "execute_result"
    }
   ],
   "source": [
    "weather[weather['평균풍속']> 4.0]"
   ]
  },
  {
   "cell_type": "code",
   "execution_count": 119,
   "id": "92f8052f",
   "metadata": {},
   "outputs": [
    {
     "data": {
      "text/html": [
       "<div>\n",
       "<style scoped>\n",
       "    .dataframe tbody tr th:only-of-type {\n",
       "        vertical-align: middle;\n",
       "    }\n",
       "\n",
       "    .dataframe tbody tr th {\n",
       "        vertical-align: top;\n",
       "    }\n",
       "\n",
       "    .dataframe thead th {\n",
       "        text-align: right;\n",
       "    }\n",
       "</style>\n",
       "<table border=\"1\" class=\"dataframe\">\n",
       "  <thead>\n",
       "    <tr style=\"text-align: right;\">\n",
       "      <th></th>\n",
       "      <th>상품</th>\n",
       "      <th>재질</th>\n",
       "      <th>가격</th>\n",
       "    </tr>\n",
       "  </thead>\n",
       "  <tbody>\n",
       "    <tr>\n",
       "      <th>0</th>\n",
       "      <td>시계</td>\n",
       "      <td>금</td>\n",
       "      <td>500000</td>\n",
       "    </tr>\n",
       "    <tr>\n",
       "      <th>1</th>\n",
       "      <td>반지</td>\n",
       "      <td>은</td>\n",
       "      <td>20000</td>\n",
       "    </tr>\n",
       "    <tr>\n",
       "      <th>2</th>\n",
       "      <td>반지</td>\n",
       "      <td>백금</td>\n",
       "      <td>350000</td>\n",
       "    </tr>\n",
       "    <tr>\n",
       "      <th>3</th>\n",
       "      <td>목걸이</td>\n",
       "      <td>금</td>\n",
       "      <td>300000</td>\n",
       "    </tr>\n",
       "    <tr>\n",
       "      <th>4</th>\n",
       "      <td>팔찌</td>\n",
       "      <td>은</td>\n",
       "      <td>60000</td>\n",
       "    </tr>\n",
       "  </tbody>\n",
       "</table>\n",
       "</div>"
      ],
      "text/plain": [
       "    상품  재질      가격\n",
       "0   시계   금  500000\n",
       "1   반지   은   20000\n",
       "2   반지  백금  350000\n",
       "3  목걸이   금  300000\n",
       "4   팔찌   은   60000"
      ]
     },
     "execution_count": 119,
     "metadata": {},
     "output_type": "execute_result"
    }
   ],
   "source": [
    "df = pd.DataFrame({'상품':['시계','반지','반지','목걸이','팔찌'],\n",
    "                    '재질': ['금','은','백금','금','은'],\n",
    "                   '가격' : [500000,20000,350000,300000,60000]})\n",
    "df"
   ]
  },
  {
   "cell_type": "code",
   "execution_count": 121,
   "id": "8e3bb1b8",
   "metadata": {},
   "outputs": [],
   "source": [
    "new_df = df.pivot(index = '상품',columns = '재질',values = '가격')"
   ]
  },
  {
   "cell_type": "code",
   "execution_count": 122,
   "id": "af4a1847",
   "metadata": {},
   "outputs": [
    {
     "data": {
      "text/html": [
       "<div>\n",
       "<style scoped>\n",
       "    .dataframe tbody tr th:only-of-type {\n",
       "        vertical-align: middle;\n",
       "    }\n",
       "\n",
       "    .dataframe tbody tr th {\n",
       "        vertical-align: top;\n",
       "    }\n",
       "\n",
       "    .dataframe thead th {\n",
       "        text-align: right;\n",
       "    }\n",
       "</style>\n",
       "<table border=\"1\" class=\"dataframe\">\n",
       "  <thead>\n",
       "    <tr style=\"text-align: right;\">\n",
       "      <th>재질</th>\n",
       "      <th>금</th>\n",
       "      <th>백금</th>\n",
       "      <th>은</th>\n",
       "    </tr>\n",
       "    <tr>\n",
       "      <th>상품</th>\n",
       "      <th></th>\n",
       "      <th></th>\n",
       "      <th></th>\n",
       "    </tr>\n",
       "  </thead>\n",
       "  <tbody>\n",
       "    <tr>\n",
       "      <th>목걸이</th>\n",
       "      <td>300000.0</td>\n",
       "      <td>0.0</td>\n",
       "      <td>0.0</td>\n",
       "    </tr>\n",
       "    <tr>\n",
       "      <th>반지</th>\n",
       "      <td>0.0</td>\n",
       "      <td>350000.0</td>\n",
       "      <td>20000.0</td>\n",
       "    </tr>\n",
       "    <tr>\n",
       "      <th>시계</th>\n",
       "      <td>500000.0</td>\n",
       "      <td>0.0</td>\n",
       "      <td>0.0</td>\n",
       "    </tr>\n",
       "    <tr>\n",
       "      <th>팔찌</th>\n",
       "      <td>0.0</td>\n",
       "      <td>0.0</td>\n",
       "      <td>60000.0</td>\n",
       "    </tr>\n",
       "  </tbody>\n",
       "</table>\n",
       "</div>"
      ],
      "text/plain": [
       "재질          금        백금        은\n",
       "상품                              \n",
       "목걸이  300000.0       0.0      0.0\n",
       "반지        0.0  350000.0  20000.0\n",
       "시계   500000.0       0.0      0.0\n",
       "팔찌        0.0       0.0  60000.0"
      ]
     },
     "execution_count": 122,
     "metadata": {},
     "output_type": "execute_result"
    }
   ],
   "source": [
    "new_df.fillna(value=0)"
   ]
  },
  {
   "cell_type": "code",
   "execution_count": 125,
   "id": "f01a95da",
   "metadata": {},
   "outputs": [],
   "source": [
    "df1 = pd.DataFrame({'A' : ['a10','a11','a12'],\n",
    "                    'B' : ['b10','b11','b12'],\n",
    "                    'C' : ['c10','c11','c12']},\n",
    "                    index = ['가','나','다'])\n",
    "df2 = pd.DataFrame({'B' : ['b23','b24','b25'],\n",
    "                    'C' : ['c23','c24','c25'],\n",
    "                    'D' : ['d23','d24','d25']},\n",
    "                    index = ['다','라','마'])"
   ]
  },
  {
   "cell_type": "code",
   "execution_count": 129,
   "id": "7f1d836e",
   "metadata": {},
   "outputs": [
    {
     "data": {
      "text/html": [
       "<div>\n",
       "<style scoped>\n",
       "    .dataframe tbody tr th:only-of-type {\n",
       "        vertical-align: middle;\n",
       "    }\n",
       "\n",
       "    .dataframe tbody tr th {\n",
       "        vertical-align: top;\n",
       "    }\n",
       "\n",
       "    .dataframe thead th {\n",
       "        text-align: right;\n",
       "    }\n",
       "</style>\n",
       "<table border=\"1\" class=\"dataframe\">\n",
       "  <thead>\n",
       "    <tr style=\"text-align: right;\">\n",
       "      <th></th>\n",
       "      <th>A</th>\n",
       "      <th>B</th>\n",
       "      <th>C</th>\n",
       "      <th>D</th>\n",
       "    </tr>\n",
       "  </thead>\n",
       "  <tbody>\n",
       "    <tr>\n",
       "      <th>가</th>\n",
       "      <td>a10</td>\n",
       "      <td>b10</td>\n",
       "      <td>c10</td>\n",
       "      <td>NaN</td>\n",
       "    </tr>\n",
       "    <tr>\n",
       "      <th>나</th>\n",
       "      <td>a11</td>\n",
       "      <td>b11</td>\n",
       "      <td>c11</td>\n",
       "      <td>NaN</td>\n",
       "    </tr>\n",
       "    <tr>\n",
       "      <th>다</th>\n",
       "      <td>a12</td>\n",
       "      <td>b12</td>\n",
       "      <td>c12</td>\n",
       "      <td>NaN</td>\n",
       "    </tr>\n",
       "    <tr>\n",
       "      <th>다</th>\n",
       "      <td>NaN</td>\n",
       "      <td>b23</td>\n",
       "      <td>c23</td>\n",
       "      <td>d23</td>\n",
       "    </tr>\n",
       "    <tr>\n",
       "      <th>라</th>\n",
       "      <td>NaN</td>\n",
       "      <td>b24</td>\n",
       "      <td>c24</td>\n",
       "      <td>d24</td>\n",
       "    </tr>\n",
       "    <tr>\n",
       "      <th>마</th>\n",
       "      <td>NaN</td>\n",
       "      <td>b25</td>\n",
       "      <td>c25</td>\n",
       "      <td>d25</td>\n",
       "    </tr>\n",
       "  </tbody>\n",
       "</table>\n",
       "</div>"
      ],
      "text/plain": [
       "     A    B    C    D\n",
       "가  a10  b10  c10  NaN\n",
       "나  a11  b11  c11  NaN\n",
       "다  a12  b12  c12  NaN\n",
       "다  NaN  b23  c23  d23\n",
       "라  NaN  b24  c24  d24\n",
       "마  NaN  b25  c25  d25"
      ]
     },
     "execution_count": 129,
     "metadata": {},
     "output_type": "execute_result"
    }
   ],
   "source": [
    "df3 = pd.concat([df1,df2])\n",
    "df3"
   ]
  },
  {
   "cell_type": "code",
   "execution_count": null,
   "id": "f266b801",
   "metadata": {},
   "outputs": [],
   "source": []
  }
 ],
 "metadata": {
  "kernelspec": {
   "display_name": "Python 3 (ipykernel)",
   "language": "python",
   "name": "python3"
  },
  "language_info": {
   "codemirror_mode": {
    "name": "ipython",
    "version": 3
   },
   "file_extension": ".py",
   "mimetype": "text/x-python",
   "name": "python",
   "nbconvert_exporter": "python",
   "pygments_lexer": "ipython3",
   "version": "3.10.9"
  }
 },
 "nbformat": 4,
 "nbformat_minor": 5
}
