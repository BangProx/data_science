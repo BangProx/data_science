{
 "cells": [
  {
   "cell_type": "code",
   "execution_count": null,
   "metadata": {
    "colab": {
     "base_uri": "https://localhost:8080/"
    },
    "executionInfo": {
     "elapsed": 3759,
     "status": "ok",
     "timestamp": 1636375309956,
     "user": {
      "displayName": "박동규",
      "photoUrl": "https://lh3.googleusercontent.com/a-/AOh14GhpRCibv0_8j-H1SbFa_4yLDitwNUElwkvFYBL3Ppk=s64",
      "userId": "10745738943866733973"
     },
     "user_tz": -540
    },
    "id": "oUz37docpCpe",
    "outputId": "d82335b6-2e93-4bef-9cfa-4f1549ea1288"
   },
   "outputs": [
    {
     "name": "stdout",
     "output_type": "stream",
     "text": [
      "Downloading data from https://storage.googleapis.com/tensorflow/tf-keras-datasets/train-labels-idx1-ubyte.gz\n",
      "\n",
      "32768/29515 [=================================] - 0s 0us/step\n",
      "\n",
      "40960/29515 [=========================================] - 0s 0us/step\n",
      "\n",
      "Downloading data from https://storage.googleapis.com/tensorflow/tf-keras-datasets/train-images-idx3-ubyte.gz\n",
      "\n",
      "26427392/26421880 [==============================] - 0s 0us/step\n",
      "\n",
      "26435584/26421880 [==============================] - 0s 0us/step\n",
      "\n",
      "Downloading data from https://storage.googleapis.com/tensorflow/tf-keras-datasets/t10k-labels-idx1-ubyte.gz\n",
      "\n",
      "16384/5148 [===============================================================================================] - 0s 0us/step\n",
      "\n",
      "Downloading data from https://storage.googleapis.com/tensorflow/tf-keras-datasets/t10k-images-idx3-ubyte.gz\n",
      "\n",
      "4423680/4422102 [==============================] - 0s 0us/step\n",
      "\n",
      "4431872/4422102 [==============================] - 0s 0us/step\n"
     ]
    }
   ],
   "source": [
    "import tensorflow as tf\n",
    "from tensorflow import keras \n",
    "import numpy as np\n",
    "import matplotlib.pyplot as plt\n",
    " \n",
    "# keras의 데이터셋의 패션 MNIST 데이터를 학습용, 테스트 데이터로 구분\n",
    "fashion_mnist = keras.datasets.fashion_mnist \n",
    "(train_images, train_labels), (test_images, test_labels) =\\\n",
    "fashion_mnist.load_data()"
   ]
  },
  {
   "cell_type": "code",
   "execution_count": null,
   "metadata": {
    "colab": {
     "base_uri": "https://localhost:8080/",
     "height": 141
    },
    "executionInfo": {
     "elapsed": 668,
     "status": "ok",
     "timestamp": 1636375310616,
     "user": {
      "displayName": "박동규",
      "photoUrl": "https://lh3.googleusercontent.com/a-/AOh14GhpRCibv0_8j-H1SbFa_4yLDitwNUElwkvFYBL3Ppk=s64",
      "userId": "10745738943866733973"
     },
     "user_tz": -540
    },
    "id": "KPemI_vapptR",
    "outputId": "5de9b01d-4949-464c-eb0a-f5cb28732978"
   },
   "outputs": [
    {
     "data": {
      "text/plain": [
       "<matplotlib.image.AxesImage at 0x7fafeda92e50>"
      ]
     },
     "execution_count": 2,
     "metadata": {},
     "output_type": "execute_result"
    },
    {
     "data": {
      "image/png": "[encoded data removed]",
      "text/plain": [
       "<Figure size 432x288 with 4 Axes>"
      ]
     },
     "metadata": {
      "needs_background": "light"
     },
     "output_type": "display_data"
    }
   ],
   "source": [
    "fig = plt.figure()\n",
    "ax1 = fig.add_subplot(1, 4, 1)\n",
    "ax2 = fig.add_subplot(1, 4, 2)\n",
    "ax3 = fig.add_subplot(1, 4, 3)\n",
    "ax4 = fig.add_subplot(1, 4, 4)\n",
    "\n",
    "ax1.imshow(train_images[0], cmap='Greys') # 첫 번째 훈련용 데이터\n",
    "ax2.imshow(train_images[1], cmap='Greys') # 두 번째 훈련용 데이터\n",
    "ax3.imshow(train_images[2], cmap='Greys') # 세 번째 훈련용 데이터\n",
    "ax4.imshow(train_images[3], cmap='Greys') # 네 번째 훈련용 데이터"
   ]
  },
  {
   "cell_type": "code",
   "execution_count": null,
   "metadata": {
    "colab": {
     "base_uri": "https://localhost:8080/"
    },
    "executionInfo": {
     "elapsed": 9,
     "status": "ok",
     "timestamp": 1636375310617,
     "user": {
      "displayName": "박동규",
      "photoUrl": "https://lh3.googleusercontent.com/a-/AOh14GhpRCibv0_8j-H1SbFa_4yLDitwNUElwkvFYBL3Ppk=s64",
      "userId": "10745738943866733973"
     },
     "user_tz": -540
    },
    "id": "2k7TnNsCptpQ",
    "outputId": "7276bd38-27f7-4433-f117-5626e84949af"
   },
   "outputs": [
    {
     "name": "stdout",
     "output_type": "stream",
     "text": [
      "[9 0 0 3]\n"
     ]
    }
   ],
   "source": [
    "print(train_labels[:4])"
   ]
  },
  {
   "cell_type": "code",
   "execution_count": null,
   "metadata": {
    "colab": {
     "base_uri": "https://localhost:8080/"
    },
    "executionInfo": {
     "elapsed": 8,
     "status": "ok",
     "timestamp": 1636375310618,
     "user": {
      "displayName": "박동규",
      "photoUrl": "https://lh3.googleusercontent.com/a-/AOh14GhpRCibv0_8j-H1SbFa_4yLDitwNUElwkvFYBL3Ppk=s64",
      "userId": "10745738943866733973"
     },
     "user_tz": -540
    },
    "id": "kk6VjHOdp-Jv",
    "outputId": "892ce69e-ddf3-4b24-ed94-cfbfae7dc395"
   },
   "outputs": [
    {
     "name": "stdout",
     "output_type": "stream",
     "text": [
      "9 : Ankle_boot\n",
      "\n",
      "0 : T-shirt\n",
      "\n",
      "0 : T-shirt\n",
      "\n",
      "3 : Dress\n"
     ]
    }
   ],
   "source": [
    "mnist_lbl = ['T-shirt', 'Trouser', 'Pullover', 'Dress', 'Coat',\n",
    "             'Sandal', 'Shirt', 'Sneaker', 'Bag', 'Ankle_boot']\n",
    "\n",
    "labels = train_labels[:4]\n",
    "for i in labels:\n",
    "    print('{} : {}'.format(i, mnist_lbl[i]))"
   ]
  },
  {
   "cell_type": "code",
   "execution_count": null,
   "metadata": {
    "colab": {
     "base_uri": "https://localhost:8080/",
     "height": 145
    },
    "executionInfo": {
     "elapsed": 1102,
     "status": "ok",
     "timestamp": 1636375341746,
     "user": {
      "displayName": "박동규",
      "photoUrl": "https://lh3.googleusercontent.com/a-/AOh14GhpRCibv0_8j-H1SbFa_4yLDitwNUElwkvFYBL3Ppk=s64",
      "userId": "10745738943866733973"
     },
     "user_tz": -540
    },
    "id": "CJ2oPmOtpMLI",
    "outputId": "2cc60f09-d738-4986-ac09-0d51526e4151"
   },
   "outputs": [
    {
     "data": {
      "text/plain": [
       "Text(0, 0, 'Dress')"
      ]
     },
     "execution_count": 5,
     "metadata": {},
     "output_type": "execute_result"
    },
    {
     "data": {
      "image/png": "[encoded data removed]",
      "text/plain": [
       "<Figure size 432x288 with 4 Axes>"
      ]
     },
     "metadata": {
      "needs_background": "light"
     },
     "output_type": "display_data"
    }
   ],
   "source": [
    "fig = plt.figure()\n",
    "ax1 = fig.add_subplot(1, 4, 1)\n",
    "ax2 = fig.add_subplot(1, 4, 2)\n",
    "ax3 = fig.add_subplot(1, 4, 3)\n",
    "ax4 = fig.add_subplot(1, 4, 4)\n",
    "\n",
    "ax1.imshow(train_images[0], cmap='Greys') # 첫 번째 훈련용 데이터\n",
    "ax2.imshow(train_images[1], cmap='Greys') # 두 번째 훈련용 데이터\n",
    "ax3.imshow(train_images[2], cmap='Greys') # 세 번째 훈련용 데이터\n",
    "ax4.imshow(train_images[3], cmap='Greys') # 네 번째 훈련용 데이터\n",
    "\n",
    "ax1.text(0, 0, mnist_lbl[train_labels[0]], bbox={'facecolor': 'white'})\n",
    "ax2.text(0, 0, mnist_lbl[train_labels[1]], bbox={'facecolor': 'white'})\n",
    "ax3.text(0, 0, mnist_lbl[train_labels[2]], bbox={'facecolor': 'white'})\n",
    "ax4.text(0, 0, mnist_lbl[train_labels[3]], bbox={'facecolor': 'white'})"
   ]
  },
  {
   "cell_type": "code",
   "execution_count": null,
   "metadata": {
    "colab": {
     "base_uri": "https://localhost:8080/"
    },
    "executionInfo": {
     "elapsed": 84386,
     "status": "ok",
     "timestamp": 1636375433528,
     "user": {
      "displayName": "박동규",
      "photoUrl": "https://lh3.googleusercontent.com/a-/AOh14GhpRCibv0_8j-H1SbFa_4yLDitwNUElwkvFYBL3Ppk=s64",
      "userId": "10745738943866733973"
     },
     "user_tz": -540
    },
    "id": "7QgrqRzepz9A",
    "outputId": "7310e1cb-1a79-4ad1-849a-6fdbc6d12308"
   },
   "outputs": [
    {
     "name": "stdout",
     "output_type": "stream",
     "text": [
      "Epoch 1/10\n",
      "\n",
      "1875/1875 [==============================] - 8s 4ms/step - loss: 0.4805 - accuracy: 0.8282\n",
      "\n",
      "Epoch 2/10\n",
      "\n",
      "1875/1875 [==============================] - 8s 4ms/step - loss: 0.3621 - accuracy: 0.8674\n",
      "\n",
      "Epoch 3/10\n",
      "\n",
      "1875/1875 [==============================] - 8s 4ms/step - loss: 0.3280 - accuracy: 0.8778\n",
      "\n",
      "Epoch 4/10\n",
      "\n",
      "1875/1875 [==============================] - 8s 4ms/step - loss: 0.3040 - accuracy: 0.8865\n",
      "\n",
      "Epoch 5/10\n",
      "\n",
      "1875/1875 [==============================] - 8s 4ms/step - loss: 0.2876 - accuracy: 0.8925\n",
      "\n",
      "Epoch 6/10\n",
      "\n",
      "1875/1875 [==============================] - 8s 4ms/step - loss: 0.2721 - accuracy: 0.8968\n",
      "\n",
      "Epoch 7/10\n",
      "\n",
      "1875/1875 [==============================] - 8s 4ms/step - loss: 0.2590 - accuracy: 0.9024\n",
      "\n",
      "Epoch 8/10\n",
      "\n",
      "1875/1875 [==============================] - 8s 4ms/step - loss: 0.2489 - accuracy: 0.9060\n",
      "\n",
      "Epoch 9/10\n",
      "\n",
      "1875/1875 [==============================] - 8s 4ms/step - loss: 0.2376 - accuracy: 0.9100\n",
      "\n",
      "Epoch 10/10\n",
      "\n",
      "1875/1875 [==============================] - 8s 4ms/step - loss: 0.2321 - accuracy: 0.9117\n",
      "\n",
      "313/313 - 1s - loss: 0.3386 - accuracy: 0.8866\n",
      "\n",
      "\n",
      "\n",
      "테스트 정확도: 0.8866000175476074\n"
     ]
    }
   ],
   "source": [
    "model = keras.Sequential([\n",
    "    keras.layers.Flatten(input_shape=(28, 28)),\n",
    "    keras.layers.Dense(256, activation='relu'),\n",
    "    keras.layers.Dense(128, activation='relu'),\n",
    "    keras.layers.Dense(100, activation='relu'),\n",
    "    keras.layers.Dense(10, activation='softmax')\n",
    "])\n",
    "\n",
    "model.compile(optimizer='adam',\n",
    "              loss='sparse_categorical_crossentropy',\n",
    "              metrics=['accuracy'])\n",
    "\n",
    "train_images, test_images = train_images / 255, test_images / 255\n",
    "model.fit(train_images, train_labels, epochs=10)\n",
    "\n",
    "test_loss, test_acc = model.evaluate(test_images, test_labels,\\\n",
    "                                     verbose=2)\n",
    "print('\\n테스트 정확도:', test_acc)"
   ]
  },
  {
   "cell_type": "code",
   "execution_count": null,
   "metadata": {
    "colab": {
     "base_uri": "https://localhost:8080/"
    },
    "executionInfo": {
     "elapsed": 24,
     "status": "ok",
     "timestamp": 1633056437492,
     "user": {
      "displayName": "박동규",
      "photoUrl": "https://lh3.googleusercontent.com/a-/AOh14GhpRCibv0_8j-H1SbFa_4yLDitwNUElwkvFYBL3Ppk=s64",
      "userId": "10745738943866733973"
     },
     "user_tz": -540
    },
    "id": "l7No0ASvtjYt",
    "outputId": "0db518a9-85ef-47b2-cd6f-b8554e123248"
   },
   "outputs": [
    {
     "name": "stdout",
     "output_type": "stream",
     "text": [
      "Model: \"sequential\"\n",
      "\n",
      "_________________________________________________________________\n",
      "\n",
      "Layer (type)                 Output Shape              Param #   \n",
      "\n",
      "=================================================================\n",
      "\n",
      "flatten (Flatten)            (None, 784)               0         \n",
      "\n",
      "_________________________________________________________________\n",
      "\n",
      "dense (Dense)                (None, 256)               200960    \n",
      "\n",
      "_________________________________________________________________\n",
      "\n",
      "dense_1 (Dense)              (None, 128)               32896     \n",
      "\n",
      "_________________________________________________________________\n",
      "\n",
      "dense_2 (Dense)              (None, 100)               12900     \n",
      "\n",
      "_________________________________________________________________\n",
      "\n",
      "dense_3 (Dense)              (None, 10)                1010      \n",
      "\n",
      "=================================================================\n",
      "\n",
      "Total params: 247,766\n",
      "\n",
      "Trainable params: 247,766\n",
      "\n",
      "Non-trainable params: 0\n",
      "\n",
      "_________________________________________________________________\n"
     ]
    }
   ],
   "source": [
    "model.summary()"
   ]
  },
  {
   "cell_type": "code",
   "execution_count": null,
   "metadata": {
    "id": "WrI6sd0agTZ5"
   },
   "outputs": [],
   "source": [
    "import tensorflow as tf\n",
    "from tensorflow import keras\n",
    "import numpy as np\n",
    "import matplotlib.pyplot as plt\n",
    "\n",
    "# 패션 MNIST 데이터는 keras의 데이터셋에 있으며, 이를 학습용, 테스트 데이터로 구분하자\n",
    "fashion_mnist = keras.datasets.fashion_mnist\n",
    "(train_images, train_labels), (test_images, test_labels) = fashion_mnist.load_data()"
   ]
  },
  {
   "cell_type": "code",
   "execution_count": null,
   "metadata": {
    "id": "rwecE7Wby40J"
   },
   "outputs": [],
   "source": [
    "train_images = train_images[:, :, :, np.newaxis]\n",
    "test_images = test_images[:, :, :, np.newaxis]\n",
    "train_images, test_images = train_images / 255, test_images / 255"
   ]
  },
  {
   "cell_type": "code",
   "execution_count": null,
   "metadata": {
    "id": "tepypPRsy97p"
   },
   "outputs": [],
   "source": [
    "model = keras.models.Sequential( [\n",
    "    keras.layers.Conv2D(input_shape = (28, 28, 1),\n",
    "                        kernel_size = (3,3), padding = 'same', \n",
    "                        filters = 32),\n",
    "    keras.layers.MaxPooling2D((2, 2), strides=2),\n",
    "    keras.layers.Conv2D(kernel_size = (3,3), padding ='same', \n",
    "                        filters = 64),\n",
    "    keras.layers.MaxPooling2D((2, 2), strides=2),\n",
    "    keras.layers.Conv2D(kernel_size = (3,3), padding = 'same', \n",
    "                        filters = 32),\n",
    "    keras.layers.Flatten(),\n",
    "    keras.layers.Dense(128, activation = 'relu'),\n",
    "    keras.layers.Dense(32, activation = 'relu'),\n",
    "    keras.layers.Dense(10, activation = 'softmax'),\n",
    "])"
   ]
  },
  {
   "cell_type": "code",
   "execution_count": null,
   "metadata": {
    "colab": {
     "base_uri": "https://localhost:8080/"
    },
    "executionInfo": {
     "elapsed": 351,
     "status": "ok",
     "timestamp": 1636375516909,
     "user": {
      "displayName": "박동규",
      "photoUrl": "https://lh3.googleusercontent.com/a-/AOh14GhpRCibv0_8j-H1SbFa_4yLDitwNUElwkvFYBL3Ppk=s64",
      "userId": "10745738943866733973"
     },
     "user_tz": -540
    },
    "id": "1V8hmGLIzDZJ",
    "outputId": "88db98eb-0ed8-49c5-9cc9-622d728dc2b2"
   },
   "outputs": [
    {
     "name": "stdout",
     "output_type": "stream",
     "text": [
      "Model: \"sequential_1\"\n",
      "\n",
      "_________________________________________________________________\n",
      "\n",
      "Layer (type)                 Output Shape              Param #   \n",
      "\n",
      "=================================================================\n",
      "\n",
      "conv2d (Conv2D)              (None, 28, 28, 32)        320       \n",
      "\n",
      "_________________________________________________________________\n",
      "\n",
      "max_pooling2d (MaxPooling2D) (None, 14, 14, 32)        0         \n",
      "\n",
      "_________________________________________________________________\n",
      "\n",
      "conv2d_1 (Conv2D)            (None, 14, 14, 64)        18496     \n",
      "\n",
      "_________________________________________________________________\n",
      "\n",
      "max_pooling2d_1 (MaxPooling2 (None, 7, 7, 64)          0         \n",
      "\n",
      "_________________________________________________________________\n",
      "\n",
      "conv2d_2 (Conv2D)            (None, 7, 7, 32)          18464     \n",
      "\n",
      "_________________________________________________________________\n",
      "\n",
      "flatten_1 (Flatten)          (None, 1568)              0         \n",
      "\n",
      "_________________________________________________________________\n",
      "\n",
      "dense_4 (Dense)              (None, 128)               200832    \n",
      "\n",
      "_________________________________________________________________\n",
      "\n",
      "dense_5 (Dense)              (None, 32)                4128      \n",
      "\n",
      "_________________________________________________________________\n",
      "\n",
      "dense_6 (Dense)              (None, 10)                330       \n",
      "\n",
      "=================================================================\n",
      "\n",
      "Total params: 242,570\n",
      "\n",
      "Trainable params: 242,570\n",
      "\n",
      "Non-trainable params: 0\n",
      "\n",
      "_________________________________________________________________\n"
     ]
    }
   ],
   "source": [
    "model.summary()"
   ]
  },
  {
   "cell_type": "code",
   "execution_count": null,
   "metadata": {
    "colab": {
     "base_uri": "https://localhost:8080/"
    },
    "executionInfo": {
     "elapsed": 344420,
     "status": "ok",
     "timestamp": 1636375928057,
     "user": {
      "displayName": "박동규",
      "photoUrl": "https://lh3.googleusercontent.com/a-/AOh14GhpRCibv0_8j-H1SbFa_4yLDitwNUElwkvFYBL3Ppk=s64",
      "userId": "10745738943866733973"
     },
     "user_tz": -540
    },
    "id": "tstEja6kzHs7",
    "outputId": "527ff850-968d-41cb-d698-11aa9d6f51c8"
   },
   "outputs": [
    {
     "name": "stdout",
     "output_type": "stream",
     "text": [
      "Epoch 1/5\n",
      "\n",
      "1407/1407 [==============================] - 67s 48ms/step - loss: 0.4602 - accuracy: 0.8314 - val_loss: 0.3659 - val_accuracy: 0.8668\n",
      "\n",
      "Epoch 2/5\n",
      "\n",
      "1407/1407 [==============================] - 68s 49ms/step - loss: 0.3034 - accuracy: 0.8892 - val_loss: 0.2939 - val_accuracy: 0.8920\n",
      "\n",
      "Epoch 3/5\n",
      "\n",
      "1407/1407 [==============================] - 71s 50ms/step - loss: 0.2548 - accuracy: 0.9067 - val_loss: 0.2816 - val_accuracy: 0.8955\n",
      "\n",
      "Epoch 4/5\n",
      "\n",
      "1407/1407 [==============================] - 69s 49ms/step - loss: 0.2230 - accuracy: 0.9170 - val_loss: 0.2564 - val_accuracy: 0.9061\n",
      "\n",
      "Epoch 5/5\n",
      "\n",
      "1407/1407 [==============================] - 69s 49ms/step - loss: 0.1989 - accuracy: 0.9257 - val_loss: 0.2686 - val_accuracy: 0.9084\n"
     ]
    }
   ],
   "source": [
    "model.compile(optimizer='adam',\n",
    "              loss='sparse_categorical_crossentropy',\n",
    "              metrics=['accuracy'])\n",
    "hist = model.fit(train_images, train_labels,\n",
    "                 epochs=5, validation_split=0.25)"
   ]
  },
  {
   "cell_type": "code",
   "execution_count": null,
   "metadata": {
    "colab": {
     "base_uri": "https://localhost:8080/",
     "height": 303
    },
    "executionInfo": {
     "elapsed": 563,
     "status": "ok",
     "timestamp": 1633667319695,
     "user": {
      "displayName": "박동규",
      "photoUrl": "https://lh3.googleusercontent.com/a-/AOh14GhpRCibv0_8j-H1SbFa_4yLDitwNUElwkvFYBL3Ppk=s64",
      "userId": "10745738943866733973"
     },
     "user_tz": -540
    },
    "id": "YmwrR4NpzWQz",
    "outputId": "ae8e55e5-28bb-43fd-cd7d-ec0c6df7a5a0"
   },
   "outputs": [
    {
     "data": {
      "text/plain": [
       "[<matplotlib.lines.Line2D at 0x7f10bb3be910>]"
      ]
     },
     "execution_count": 8,
     "metadata": {},
     "output_type": "execute_result"
    },
    {
     "data": {
      "image/png": "[encoded data removed]",
      "text/plain": [
       "<Figure size 432x288 with 1 Axes>"
      ]
     },
     "metadata": {
      "needs_background": "light"
     },
     "output_type": "display_data"
    }
   ],
   "source": [
    "plt.plot(hist.history['accuracy'], 'b-')\n",
    "plt.plot(hist.history['val_accuracy'], 'r--')"
   ]
  },
  {
   "cell_type": "code",
   "execution_count": null,
   "metadata": {
    "colab": {
     "base_uri": "https://localhost:8080/"
    },
    "executionInfo": {
     "elapsed": 4037,
     "status": "ok",
     "timestamp": 1633667340392,
     "user": {
      "displayName": "박동규",
      "photoUrl": "https://lh3.googleusercontent.com/a-/AOh14GhpRCibv0_8j-H1SbFa_4yLDitwNUElwkvFYBL3Ppk=s64",
      "userId": "10745738943866733973"
     },
     "user_tz": -540
    },
    "id": "kYCmg5Mczelx",
    "outputId": "a0274edf-2abd-4939-87ae-c02ede10c7ab"
   },
   "outputs": [
    {
     "name": "stdout",
     "output_type": "stream",
     "text": [
      "313/313 - 3s - loss: 0.2762 - accuracy: 0.9040\n",
      "\n",
      "테스트 정확도: 0.9039999842643738\n"
     ]
    }
   ],
   "source": [
    "test_loss, test_acc = model.evaluate(test_images,  test_labels,\\\n",
    "                                     verbose=2)\n",
    "print('테스트 정확도:', test_acc)"
   ]
  },
  {
   "cell_type": "code",
   "execution_count": null,
   "metadata": {
    "colab": {
     "base_uri": "https://localhost:8080/"
    },
    "executionInfo": {
     "elapsed": 307,
     "status": "ok",
     "timestamp": 1633667510604,
     "user": {
      "displayName": "박동규",
      "photoUrl": "https://lh3.googleusercontent.com/a-/AOh14GhpRCibv0_8j-H1SbFa_4yLDitwNUElwkvFYBL3Ppk=s64",
      "userId": "10745738943866733973"
     },
     "user_tz": -540
    },
    "id": "2hlST357znty",
    "outputId": "adbfee9d-bd71-4713-80a9-55bf89ab2923"
   },
   "outputs": [
    {
     "name": "stdout",
     "output_type": "stream",
     "text": [
      "예측값 = [9 2 1 1 6 1 4 6 5 7 4 5 8 3 4 1 2 4 8 0 2 5 7 5 1]\n",
      "\n",
      "실제값 = [9 2 1 1 6 1 4 6 5 7 4 5 7 3 4 1 2 4 8 0 2 5 7 9 1]\n"
     ]
    }
   ],
   "source": [
    "mnist_lbl = ['T-shirt', 'Trouser', 'Pullover', 'Dress', 'Coat',\n",
    "             'Sandal', 'Shirt', 'Sneaker', 'Bag', 'Ankle_boot']\n",
    "\n",
    "images = test_images[:25]\n",
    "pred = np.argmax(model.predict(images), axis=1)\n",
    "print('예측값 =', pred)\n",
    "print('실제값 =', test_labels[:25])"
   ]
  }
 ],
 "metadata": {
  "colab": {
   "collapsed_sections": [],
   "name": "13_합성곱신경망.ipynb",
   "provenance": []
  },
  "kernelspec": {
   "display_name": "Python 3 (ipykernel)",
   "language": "python",
   "name": "python3"
  },
  "language_info": {
   "codemirror_mode": {
    "name": "ipython",
    "version": 3
   },
   "file_extension": ".py",
   "mimetype": "text/x-python",
   "name": "python",
   "nbconvert_exporter": "python",
   "pygments_lexer": "ipython3",
   "version": "3.10.9"
  }
 },
 "nbformat": 4,
 "nbformat_minor": 4
}
