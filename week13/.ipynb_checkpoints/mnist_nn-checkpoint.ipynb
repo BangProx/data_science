{
 "cells": [
  {
   "cell_type": "code",
   "execution_count": null,
   "metadata": {
    "colab": {
     "base_uri": "https://localhost:8080/"
    },
    "executionInfo": {
     "elapsed": 3441,
     "status": "ok",
     "timestamp": 1637817996534,
     "user": {
      "displayName": "박동규",
      "photoUrl": "https://lh3.googleusercontent.com/a-/AOh14GhpRCibv0_8j-H1SbFa_4yLDitwNUElwkvFYBL3Ppk=s64",
      "userId": "10745738943866733973"
     },
     "user_tz": -540
    },
    "id": "HnXZtl8bDDSI",
    "outputId": "da15a7d0-e2f8-4ad6-fa4d-cb49c394c624"
   },
   "outputs": [
    {
     "name": "stdout",
     "output_type": "stream",
     "text": [
      "Downloading data from https://storage.googleapis.com/tensorflow/tf-keras-datasets/mnist.npz\n",
      "\n",
      "11493376/11490434 [==============================] - 0s 0us/step\n",
      "\n",
      "11501568/11490434 [==============================] - 0s 0us/step\n"
     ]
    }
   ],
   "source": [
    "# tensorflow와 tf.keras를 임포트\n",
    "import tensorflow as tf\n",
    "from tensorflow import keras\n",
    "import numpy as np\n",
    "import matplotlib.pyplot as plt\n",
    "\n",
    "# MNIST 데이터를 학습용, 테스트 데이터로 구분하여 읽어옴\n",
    "mnist = keras.datasets.mnist\n",
    "(train_images, train_labels), (test_images, test_labels) =\\\n",
    "mnist.load_data()"
   ]
  },
  {
   "cell_type": "code",
   "execution_count": null,
   "metadata": {
    "colab": {
     "base_uri": "https://localhost:8080/"
    },
    "executionInfo": {
     "elapsed": 424,
     "status": "ok",
     "timestamp": 1636372728063,
     "user": {
      "displayName": "박동규",
      "photoUrl": "https://lh3.googleusercontent.com/a-/AOh14GhpRCibv0_8j-H1SbFa_4yLDitwNUElwkvFYBL3Ppk=s64",
      "userId": "10745738943866733973"
     },
     "user_tz": -540
    },
    "id": "TZ15Q9nHKfG2",
    "outputId": "882b4d85-6287-4be3-8098-3b0af1849b39"
   },
   "outputs": [
    {
     "name": "stdout",
     "output_type": "stream",
     "text": [
      "train_images.shape = (60000, 28, 28)\n",
      "\n",
      "test_images.shape = (10000, 28, 28)\n",
      "\n",
      "train_labels.shape = (60000,)\n",
      "\n",
      "test_labels.shape = (10000,)\n"
     ]
    }
   ],
   "source": [
    "print('train_images.shape =', train_images.shape)\n",
    "print('test_images.shape =', test_images.shape)\n",
    "print('train_labels.shape =', train_labels.shape)\n",
    "print('test_labels.shape =', test_labels.shape)"
   ]
  },
  {
   "cell_type": "code",
   "execution_count": null,
   "metadata": {
    "colab": {
     "base_uri": "https://localhost:8080/"
    },
    "executionInfo": {
     "elapsed": 423,
     "status": "ok",
     "timestamp": 1636372739112,
     "user": {
      "displayName": "박동규",
      "photoUrl": "https://lh3.googleusercontent.com/a-/AOh14GhpRCibv0_8j-H1SbFa_4yLDitwNUElwkvFYBL3Ppk=s64",
      "userId": "10745738943866733973"
     },
     "user_tz": -540
    },
    "id": "mMNC-3f7K3ne",
    "outputId": "925a6a86-08e6-4a50-a88a-485c78e17b62"
   },
   "outputs": [
    {
     "name": "stdout",
     "output_type": "stream",
     "text": [
      "   0   0   0   0   0   0   0   0   0   0   0   0   0   0   0   0   0   0   0   0   0   0   0   0   0   0   0   0\n",
      "\n",
      "   0   0   0   0   0   0   0   0   0   0   0   0   0   0   0   0   0   0   0   0   0   0   0   0   0   0   0   0\n",
      "\n",
      "   0   0   0   0   0   0   0   0   0   0   0   0   0   0   0   0   0   0   0   0   0   0   0   0   0   0   0   0\n",
      "\n",
      "   0   0   0   0   0   0   0   0   0   0   0   0   0   0   0   0   0   0   0   0   0   0   0   0   0   0   0   0\n",
      "\n",
      "   0   0   0   0   0   0   0   0   0   0   0   0   0   0   0   0   0   0   0   0   0   0   0   0   0   0   0   0\n",
      "\n",
      "   0   0   0   0   0   0   0   0   0   0   0   0   3  18  18  18 126 136 175  26 166 255 247 127   0   0   0   0\n",
      "\n",
      "   0   0   0   0   0   0   0   0  30  36  94 154 170 253 253 253 253 253 225 172 253 242 195  64   0   0   0   0\n",
      "\n",
      "   0   0   0   0   0   0   0  49 238 253 253 253 253 253 253 253 253 251  93  82  82  56  39   0   0   0   0   0\n",
      "\n",
      "   0   0   0   0   0   0   0  18 219 253 253 253 253 253 198 182 247 241   0   0   0   0   0   0   0   0   0   0\n",
      "\n",
      "   0   0   0   0   0   0   0   0  80 156 107 253 253 205  11   0  43 154   0   0   0   0   0   0   0   0   0   0\n",
      "\n",
      "   0   0   0   0   0   0   0   0   0  14   1 154 253  90   0   0   0   0   0   0   0   0   0   0   0   0   0   0\n",
      "\n",
      "   0   0   0   0   0   0   0   0   0   0   0 139 253 190   2   0   0   0   0   0   0   0   0   0   0   0   0   0\n",
      "\n",
      "   0   0   0   0   0   0   0   0   0   0   0  11 190 253  70   0   0   0   0   0   0   0   0   0   0   0   0   0\n",
      "\n",
      "   0   0   0   0   0   0   0   0   0   0   0   0  35 241 225 160 108   1   0   0   0   0   0   0   0   0   0   0\n",
      "\n",
      "   0   0   0   0   0   0   0   0   0   0   0   0   0  81 240 253 253 119  25   0   0   0   0   0   0   0   0   0\n",
      "\n",
      "   0   0   0   0   0   0   0   0   0   0   0   0   0   0  45 186 253 253 150  27   0   0   0   0   0   0   0   0\n",
      "\n",
      "   0   0   0   0   0   0   0   0   0   0   0   0   0   0   0  16  93 252 253 187   0   0   0   0   0   0   0   0\n",
      "\n",
      "   0   0   0   0   0   0   0   0   0   0   0   0   0   0   0   0   0 249 253 249  64   0   0   0   0   0   0   0\n",
      "\n",
      "   0   0   0   0   0   0   0   0   0   0   0   0   0   0  46 130 183 253 253 207   2   0   0   0   0   0   0   0\n",
      "\n",
      "   0   0   0   0   0   0   0   0   0   0   0   0  39 148 229 253 253 253 250 182   0   0   0   0   0   0   0   0\n",
      "\n",
      "   0   0   0   0   0   0   0   0   0   0  24 114 221 253 253 253 253 201  78   0   0   0   0   0   0   0   0   0\n",
      "\n",
      "   0   0   0   0   0   0   0   0  23  66 213 253 253 253 253 198  81   2   0   0   0   0   0   0   0   0   0   0\n",
      "\n",
      "   0   0   0   0   0   0  18 171 219 253 253 253 253 195  80   9   0   0   0   0   0   0   0   0   0   0   0   0\n",
      "\n",
      "   0   0   0   0  55 172 226 253 253 253 253 244 133  11   0   0   0   0   0   0   0   0   0   0   0   0   0   0\n",
      "\n",
      "   0   0   0   0 136 253 253 253 212 135 132  16   0   0   0   0   0   0   0   0   0   0   0   0   0   0   0   0\n",
      "\n",
      "   0   0   0   0   0   0   0   0   0   0   0   0   0   0   0   0   0   0   0   0   0   0   0   0   0   0   0   0\n",
      "\n",
      "   0   0   0   0   0   0   0   0   0   0   0   0   0   0   0   0   0   0   0   0   0   0   0   0   0   0   0   0\n",
      "\n",
      "   0   0   0   0   0   0   0   0   0   0   0   0   0   0   0   0   0   0   0   0   0   0   0   0   0   0   0   0\n"
     ]
    }
   ],
   "source": [
    "num = train_images[0]\n",
    "for i in range(28):\n",
    "    for j in range(28):\n",
    "        print('{:4d}'.format(num[i][j]), end='')\n",
    "    print()"
   ]
  },
  {
   "cell_type": "code",
   "execution_count": null,
   "metadata": {
    "colab": {
     "base_uri": "https://localhost:8080/",
     "height": 141
    },
    "executionInfo": {
     "elapsed": 1068,
     "status": "ok",
     "timestamp": 1636372760146,
     "user": {
      "displayName": "박동규",
      "photoUrl": "https://lh3.googleusercontent.com/a-/AOh14GhpRCibv0_8j-H1SbFa_4yLDitwNUElwkvFYBL3Ppk=s64",
      "userId": "10745738943866733973"
     },
     "user_tz": -540
    },
    "id": "vdk910loxW94",
    "outputId": "eee222d6-bf7c-475d-d236-23429eb20649"
   },
   "outputs": [
    {
     "data": {
      "text/plain": [
       "<matplotlib.image.AxesImage at 0x7f97ce9ee6d0>"
      ]
     },
     "execution_count": 5,
     "metadata": {},
     "output_type": "execute_result"
    },
    {
     "data": {
      "image/png": "[encoded data removed]",
      "text/plain": [
       "<Figure size 432x288 with 4 Axes>"
      ]
     },
     "metadata": {
      "needs_background": "light"
     },
     "output_type": "display_data"
    }
   ],
   "source": [
    "fig = plt.figure()\n",
    "ax1 = fig.add_subplot(1, 4, 1)\n",
    "ax2 = fig.add_subplot(1, 4, 2)\n",
    "ax3 = fig.add_subplot(1, 4, 3)\n",
    "ax4 = fig.add_subplot(1, 4, 4)\n",
    "\n",
    "ax1.imshow(train_images[0], cmap='Greys') # 첫 번째 훈련용 데이터\n",
    "ax2.imshow(train_images[1], cmap='Greys') # 두 번째 훈련용 데이터\n",
    "ax3.imshow(train_images[2], cmap='Greys') # 세 번째 훈련용 데이터\n",
    "ax4.imshow(train_images[3], cmap='Greys') # 네 번째 훈련용 데이터"
   ]
  },
  {
   "cell_type": "code",
   "execution_count": null,
   "metadata": {
    "colab": {
     "base_uri": "https://localhost:8080/"
    },
    "executionInfo": {
     "elapsed": 395,
     "status": "ok",
     "timestamp": 1636372767099,
     "user": {
      "displayName": "박동규",
      "photoUrl": "https://lh3.googleusercontent.com/a-/AOh14GhpRCibv0_8j-H1SbFa_4yLDitwNUElwkvFYBL3Ppk=s64",
      "userId": "10745738943866733973"
     },
     "user_tz": -540
    },
    "id": "rnRQNlc6y7i6",
    "outputId": "cbf250a4-f637-4612-b2fc-92359d44d407"
   },
   "outputs": [
    {
     "name": "stdout",
     "output_type": "stream",
     "text": [
      "train_labels[:4] = [5 0 4 1]\n"
     ]
    }
   ],
   "source": [
    "print('train_labels[:4] =', train_labels[:4])"
   ]
  },
  {
   "cell_type": "code",
   "execution_count": null,
   "metadata": {
    "id": "x8yiJbw5zPKU"
   },
   "outputs": [],
   "source": [
    "# 입력값 전처리 : 0에서 1사이의 값으로 입력 데이터를 가공함\n",
    "train_images, test_images = train_images / 255, test_images / 255"
   ]
  },
  {
   "cell_type": "code",
   "execution_count": null,
   "metadata": {
    "id": "YOFMvNkzMmo_"
   },
   "outputs": [],
   "source": [
    "model = keras.Sequential([\n",
    "    keras.layers.Flatten(input_shape=(28, 28)),\n",
    "    keras.layers.Dense(256, activation='relu'),\n",
    "    keras.layers.Dense(10, activation='softmax')\n",
    "])"
   ]
  },
  {
   "cell_type": "code",
   "execution_count": null,
   "metadata": {
    "colab": {
     "base_uri": "https://localhost:8080/"
    },
    "executionInfo": {
     "elapsed": 426,
     "status": "ok",
     "timestamp": 1636372851681,
     "user": {
      "displayName": "박동규",
      "photoUrl": "https://lh3.googleusercontent.com/a-/AOh14GhpRCibv0_8j-H1SbFa_4yLDitwNUElwkvFYBL3Ppk=s64",
      "userId": "10745738943866733973"
     },
     "user_tz": -540
    },
    "id": "XsjTM8_OFRgQ",
    "outputId": "95de9177-aab6-4d4f-a326-41cd78b05213"
   },
   "outputs": [
    {
     "name": "stdout",
     "output_type": "stream",
     "text": [
      "Model: \"sequential_1\"\n",
      "\n",
      "_________________________________________________________________\n",
      "\n",
      "Layer (type)                 Output Shape              Param #   \n",
      "\n",
      "=================================================================\n",
      "\n",
      "flatten_1 (Flatten)          (None, 784)               0         \n",
      "\n",
      "_________________________________________________________________\n",
      "\n",
      "dense_2 (Dense)              (None, 256)               200960    \n",
      "\n",
      "_________________________________________________________________\n",
      "\n",
      "dense_3 (Dense)              (None, 10)                2570      \n",
      "\n",
      "=================================================================\n",
      "\n",
      "Total params: 203,530\n",
      "\n",
      "Trainable params: 203,530\n",
      "\n",
      "Non-trainable params: 0\n",
      "\n",
      "_________________________________________________________________\n"
     ]
    }
   ],
   "source": [
    "model.summary()   # 모델의 구조를 요약하여 살펴보자"
   ]
  },
  {
   "cell_type": "code",
   "execution_count": null,
   "metadata": {
    "id": "9FOfrAATMrWq"
   },
   "outputs": [],
   "source": [
    "model.compile(optimizer='adam',\n",
    "              loss='sparse_categorical_crossentropy',\n",
    "              metrics=['accuracy'])"
   ]
  },
  {
   "cell_type": "code",
   "execution_count": null,
   "metadata": {
    "colab": {
     "base_uri": "https://localhost:8080/"
    },
    "executionInfo": {
     "elapsed": 41931,
     "status": "ok",
     "timestamp": 1636372989225,
     "user": {
      "displayName": "박동규",
      "photoUrl": "https://lh3.googleusercontent.com/a-/AOh14GhpRCibv0_8j-H1SbFa_4yLDitwNUElwkvFYBL3Ppk=s64",
      "userId": "10745738943866733973"
     },
     "user_tz": -540
    },
    "id": "EYSI93CvOHY9",
    "outputId": "aced0e8f-64bf-4b45-92b5-91ab048accf5"
   },
   "outputs": [
    {
     "name": "stdout",
     "output_type": "stream",
     "text": [
      "Epoch 1/5\n",
      "\n",
      "1875/1875 [==============================] - 5s 2ms/step - loss: 0.0269 - accuracy: 0.9912\n",
      "\n",
      "Epoch 2/5\n",
      "\n",
      "1875/1875 [==============================] - 5s 3ms/step - loss: 0.0195 - accuracy: 0.9940\n",
      "\n",
      "Epoch 3/5\n",
      "\n",
      "1875/1875 [==============================] - 5s 3ms/step - loss: 0.0158 - accuracy: 0.9949\n",
      "\n",
      "Epoch 4/5\n",
      "\n",
      "1875/1875 [==============================] - 5s 2ms/step - loss: 0.0138 - accuracy: 0.9955\n",
      "\n",
      "Epoch 5/5\n",
      "\n",
      "1875/1875 [==============================] - 5s 2ms/step - loss: 0.0088 - accuracy: 0.9971\n"
     ]
    },
    {
     "data": {
      "text/plain": [
       "<keras.callbacks.History at 0x7f97ca32fc90>"
      ]
     },
     "execution_count": 19,
     "metadata": {},
     "output_type": "execute_result"
    }
   ],
   "source": [
    "model.fit(train_images, train_labels, epochs=5)"
   ]
  },
  {
   "cell_type": "code",
   "execution_count": null,
   "metadata": {
    "colab": {
     "base_uri": "https://localhost:8080/"
    },
    "executionInfo": {
     "elapsed": 1056,
     "status": "ok",
     "timestamp": 1636373122252,
     "user": {
      "displayName": "박동규",
      "photoUrl": "https://lh3.googleusercontent.com/a-/AOh14GhpRCibv0_8j-H1SbFa_4yLDitwNUElwkvFYBL3Ppk=s64",
      "userId": "10745738943866733973"
     },
     "user_tz": -540
    },
    "id": "2SIvVQGjsFwS",
    "outputId": "84624079-b6f0-49e1-f53b-44718a6173b2"
   },
   "outputs": [
    {
     "name": "stdout",
     "output_type": "stream",
     "text": [
      "313/313 - 0s - loss: 0.0787 - accuracy: 0.9791\n",
      "\n",
      "\n",
      "\n",
      "테스트 정확도: 0.9790999889373779\n"
     ]
    }
   ],
   "source": [
    "test_loss, test_acc = model.evaluate(test_images,  test_labels, verbose=2)\n",
    "print('\\n테스트 정확도:', test_acc)"
   ]
  },
  {
   "cell_type": "markdown",
   "metadata": {
    "id": "ASKmGp7GcGL0"
   },
   "source": [
    "### 12.6 인공 신경망의 성능을 개선해 보자"
   ]
  },
  {
   "cell_type": "code",
   "execution_count": null,
   "metadata": {
    "colab": {
     "base_uri": "https://localhost:8080/"
    },
    "executionInfo": {
     "elapsed": 64517,
     "status": "ok",
     "timestamp": 1636373207584,
     "user": {
      "displayName": "박동규",
      "photoUrl": "https://lh3.googleusercontent.com/a-/AOh14GhpRCibv0_8j-H1SbFa_4yLDitwNUElwkvFYBL3Ppk=s64",
      "userId": "10745738943866733973"
     },
     "user_tz": -540
    },
    "id": "LekbAo781iyv",
    "outputId": "92f38991-ec41-45a2-b880-61503d4f17fc"
   },
   "outputs": [
    {
     "name": "stdout",
     "output_type": "stream",
     "text": [
      "Epoch 1/10\n",
      "\n",
      "1875/1875 [==============================] - 7s 3ms/step - loss: 0.6432 - accuracy: 0.7940\n",
      "\n",
      "Epoch 2/10\n",
      "\n",
      "1875/1875 [==============================] - 6s 3ms/step - loss: 0.2925 - accuracy: 0.9131\n",
      "\n",
      "Epoch 3/10\n",
      "\n",
      "1875/1875 [==============================] - 6s 3ms/step - loss: 0.2160 - accuracy: 0.9351\n",
      "\n",
      "Epoch 4/10\n",
      "\n",
      "1875/1875 [==============================] - 6s 3ms/step - loss: 0.1693 - accuracy: 0.9482\n",
      "\n",
      "Epoch 5/10\n",
      "\n",
      "1875/1875 [==============================] - 6s 3ms/step - loss: 0.1380 - accuracy: 0.9579\n",
      "\n",
      "Epoch 6/10\n",
      "\n",
      "1875/1875 [==============================] - 7s 4ms/step - loss: 0.1160 - accuracy: 0.9640\n",
      "\n",
      "Epoch 7/10\n",
      "\n",
      "1875/1875 [==============================] - 6s 3ms/step - loss: 0.0983 - accuracy: 0.9699\n",
      "\n",
      "Epoch 8/10\n",
      "\n",
      "1875/1875 [==============================] - 6s 3ms/step - loss: 0.0853 - accuracy: 0.9735\n",
      "\n",
      "Epoch 9/10\n",
      "\n",
      "1875/1875 [==============================] - 6s 3ms/step - loss: 0.0761 - accuracy: 0.9763\n",
      "\n",
      "Epoch 10/10\n",
      "\n",
      "1875/1875 [==============================] - 6s 3ms/step - loss: 0.0687 - accuracy: 0.9786\n",
      "\n",
      "\n",
      "\n",
      "테스트 정확도: 0.9692000150680542\n"
     ]
    }
   ],
   "source": [
    "model = keras.Sequential([\n",
    "   keras.layers.Flatten(input_shape=(28, 28)),\n",
    "   keras.layers.Dense(256, activation='relu'),\n",
    "   keras.layers.Dense(128, activation='relu'),\n",
    "   keras.layers.Dense(100, activation='relu'),\n",
    "   keras.layers.Dense(10, activation='softmax')\n",
    "])\n",
    "\n",
    "model.compile(optimizer='adam',\\\n",
    "             loss='sparse_categorical_crossentropy',\n",
    "             metrics=['accuracy'])\n",
    "\n",
    "train_images, test_images = train_images / 255, test_images / 255\n",
    "model.fit(train_images, train_labels, epochs=10, verbose=1)\n",
    "\n",
    "test_loss, test_acc = model.evaluate(test_images,  test_labels,\\\n",
    "                                     verbose=0)\n",
    "print('\\n테스트 정확도:', test_acc)"
   ]
  },
  {
   "cell_type": "code",
   "execution_count": null,
   "metadata": {
    "colab": {
     "base_uri": "https://localhost:8080/"
    },
    "executionInfo": {
     "elapsed": 299942,
     "status": "ok",
     "timestamp": 1636374795749,
     "user": {
      "displayName": "박동규",
      "photoUrl": "https://lh3.googleusercontent.com/a-/AOh14GhpRCibv0_8j-H1SbFa_4yLDitwNUElwkvFYBL3Ppk=s64",
      "userId": "10745738943866733973"
     },
     "user_tz": -540
    },
    "id": "yQKPva1bfnoT",
    "outputId": "c09b7db3-0c54-44cd-df51-291a7284a5b0"
   },
   "outputs": [
    {
     "name": "stdout",
     "output_type": "stream",
     "text": [
      "Epoch 1/10\n",
      "\n",
      "1875/1875 [==============================] - 30s 16ms/step - loss: 2.3016 - accuracy: 0.1118\n",
      "\n",
      "Epoch 2/10\n",
      "\n",
      "1875/1875 [==============================] - 30s 16ms/step - loss: 2.3015 - accuracy: 0.1124\n",
      "\n",
      "Epoch 3/10\n",
      "\n",
      "1875/1875 [==============================] - 30s 16ms/step - loss: 2.3014 - accuracy: 0.1122\n",
      "\n",
      "Epoch 4/10\n",
      "\n",
      "1875/1875 [==============================] - 30s 16ms/step - loss: 2.3014 - accuracy: 0.1124\n",
      "\n",
      "Epoch 5/10\n",
      "\n",
      "1875/1875 [==============================] - 30s 16ms/step - loss: 2.3014 - accuracy: 0.1124\n",
      "\n",
      "Epoch 6/10\n",
      "\n",
      "1875/1875 [==============================] - 30s 16ms/step - loss: 2.3014 - accuracy: 0.1124\n",
      "\n",
      "Epoch 7/10\n",
      "\n",
      "1875/1875 [==============================] - 29s 16ms/step - loss: 2.3013 - accuracy: 0.1124\n",
      "\n",
      "Epoch 8/10\n",
      "\n",
      "1875/1875 [==============================] - 30s 16ms/step - loss: 2.3013 - accuracy: 0.1124\n",
      "\n",
      "Epoch 9/10\n",
      "\n",
      "1875/1875 [==============================] - 30s 16ms/step - loss: 2.3013 - accuracy: 0.1124\n",
      "\n",
      "Epoch 10/10\n",
      "\n",
      "1875/1875 [==============================] - 30s 16ms/step - loss: 2.3013 - accuracy: 0.1124\n",
      "\n",
      "\n",
      "\n",
      "테스트 정확도: 0.11349999904632568\n"
     ]
    }
   ],
   "source": [
    "model = keras.Sequential([\n",
    "   keras.layers.Flatten(input_shape=(28, 28)),\n",
    "   keras.layers.Dense(1256, activation='relu'),\n",
    "   keras.layers.Dense(512, activation='relu'),\n",
    "   keras.layers.Dense(256, activation='relu'),\n",
    "   keras.layers.Dense(100, activation='relu'),\n",
    "   keras.layers.Dense(10, activation='softmax')\n",
    "])\n",
    "\n",
    "model.compile(optimizer='adam',\\\n",
    "             loss='sparse_categorical_crossentropy',\n",
    "             metrics=['accuracy'])\n",
    "\n",
    "train_images, test_images = train_images / 255, test_images / 255\n",
    "model.fit(train_images, train_labels, epochs=10, verbose=1)\n",
    "\n",
    "test_loss, test_acc = model.evaluate(test_images,  test_labels,\\\n",
    "                                     verbose=0)\n",
    "print('\\n테스트 정확도:', test_acc)"
   ]
  }
 ],
 "metadata": {
  "colab": {
   "authorship_tag": "ABX9TyPNs6fOAYBTLZusg3xd4Y/B",
   "collapsed_sections": [],
   "name": "12_텐서플로.ipynb",
   "provenance": []
  },
  "kernelspec": {
   "display_name": "Python 3 (ipykernel)",
   "language": "python",
   "name": "python3"
  },
  "language_info": {
   "codemirror_mode": {
    "name": "ipython",
    "version": 3
   },
   "file_extension": ".py",
   "mimetype": "text/x-python",
   "name": "python",
   "nbconvert_exporter": "python",
   "pygments_lexer": "ipython3",
   "version": "3.10.9"
  }
 },
 "nbformat": 4,
 "nbformat_minor": 4
}
