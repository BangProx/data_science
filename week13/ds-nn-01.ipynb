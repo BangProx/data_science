{
 "cells": [
  {
   "cell_type": "code",
   "execution_count": 24,
   "metadata": {
    "execution": {
     "iopub.execute_input": "2023-05-29T00:19:30.131249Z",
     "iopub.status.busy": "2023-05-29T00:19:30.130893Z",
     "iopub.status.idle": "2023-05-29T00:19:30.147398Z",
     "shell.execute_reply": "2023-05-29T00:19:30.145784Z",
     "shell.execute_reply.started": "2023-05-29T00:19:30.131197Z"
    }
   },
   "outputs": [
    {
     "name": "stdout",
     "output_type": "stream",
     "text": [
      "epoch = 0 \n",
      "=================================\n",
      "input:  [0 0 1] target:  0 output:  0 updated weight:  [0. 0. 0.] error:  0\n",
      "input:  [0 1 1] target:  0 output:  0 updated weight:  [0. 0. 0.] error:  0\n",
      "input:  [1 0 1] target:  0 output:  0 updated weight:  [0. 0. 0.] error:  0\n",
      "input:  [1 1 1] target:  1 output:  0 updated weight:  [0.1 0.1 0.1] error:  1\n",
      "epoch = 1 \n",
      "=================================\n",
      "input:  [0 0 1] target:  0 output:  1 updated weight:  [0.1 0.1 0. ] error:  -1\n",
      "input:  [0 1 1] target:  0 output:  1 updated weight:  [ 0.1  0.  -0.1] error:  -1\n",
      "input:  [1 0 1] target:  0 output:  0 updated weight:  [ 0.1  0.  -0.1] error:  0\n",
      "input:  [1 1 1] target:  1 output:  0 updated weight:  [0.2 0.1 0. ] error:  1\n",
      "epoch = 2 \n",
      "=================================\n",
      "input:  [0 0 1] target:  0 output:  0 updated weight:  [0.2 0.1 0. ] error:  0\n",
      "input:  [0 1 1] target:  0 output:  1 updated weight:  [ 0.2  0.  -0.1] error:  -1\n",
      "input:  [1 0 1] target:  0 output:  1 updated weight:  [ 0.1  0.  -0.2] error:  -1\n",
      "input:  [1 1 1] target:  1 output:  0 updated weight:  [ 0.2  0.1 -0.1] error:  1\n",
      "epoch = 3 \n",
      "=================================\n",
      "input:  [0 0 1] target:  0 output:  0 updated weight:  [ 0.2  0.1 -0.1] error:  0\n",
      "input:  [0 1 1] target:  0 output:  0 updated weight:  [ 0.2  0.1 -0.1] error:  0\n",
      "input:  [1 0 1] target:  0 output:  1 updated weight:  [ 0.1  0.1 -0.2] error:  -1\n",
      "input:  [1 1 1] target:  1 output:  0 updated weight:  [ 0.2  0.2 -0.1] error:  1\n",
      "epoch = 4 \n",
      "=================================\n",
      "input:  [0 0 1] target:  0 output:  0 updated weight:  [ 0.2  0.2 -0.1] error:  0\n",
      "input:  [0 1 1] target:  0 output:  1 updated weight:  [ 0.2  0.1 -0.2] error:  -1\n",
      "input:  [1 0 1] target:  0 output:  0 updated weight:  [ 0.2  0.1 -0.2] error:  0\n",
      "input:  [1 1 1] target:  1 output:  1 updated weight:  [ 0.2  0.1 -0.2] error:  0\n",
      "epoch = 5 \n",
      "=================================\n",
      "input:  [0 0 1] target:  0 output:  0 updated weight:  [ 0.2  0.1 -0.2] error:  0\n",
      "input:  [0 1 1] target:  0 output:  0 updated weight:  [ 0.2  0.1 -0.2] error:  0\n",
      "input:  [1 0 1] target:  0 output:  0 updated weight:  [ 0.2  0.1 -0.2] error:  0\n",
      "input:  [1 1 1] target:  1 output:  1 updated weight:  [ 0.2  0.1 -0.2] error:  0\n"
     ]
    }
   ],
   "source": [
    "#code 13-1\n",
    "import numpy as np\n",
    "\n",
    "def activation(s):\n",
    "    if s>0 : return 1\n",
    "    else : return 0\n",
    "\n",
    "def out(x):\n",
    "    return activation(W.dot(x))\n",
    "\n",
    "def train(X,Y,epochs=10):#에폭은 모든 데이터가 다 train process를 들어갔을때. 그 과정을 몇 번 반복할지 정의하는 코드.\n",
    "    global W, learning_rate\n",
    "    for t in range(epochs):\n",
    "        print('epoch =',t,'\\n=================================')\n",
    "        adjusted = 0\n",
    "        for i in range(len(X)):\n",
    "            Y_hat = out(X[i])\n",
    "            error = Y[i]-Y_hat\n",
    "            if (error !=0) : adjusted +=1\n",
    "            W += learning_rate*error*X[i]#weight update\n",
    "            print ('input: ', X[i], 'target: ', Y[i], 'output: ', Y_hat, \\\n",
    "                    'updated weight: ', W, 'error: ',error)\n",
    "        if adjusted == 0 : return\n",
    "        \n",
    "X = np.array([[0,0,1],\n",
    "             [0,1,1],\n",
    "             [1,0,1],\n",
    "             [1,1,1]])\n",
    "Y = np.array([0,0,0,1])\n",
    "W = np.array([0,0,0],dtype=np.float64)\n",
    "learning_rate = 0.1\n",
    "train(X,Y,100)"
   ]
  },
  {
   "cell_type": "code",
   "execution_count": 25,
   "metadata": {
    "execution": {
     "iopub.execute_input": "2023-05-29T00:19:44.987360Z",
     "iopub.status.busy": "2023-05-29T00:19:44.986981Z",
     "iopub.status.idle": "2023-05-29T00:19:44.994263Z",
     "shell.execute_reply": "2023-05-29T00:19:44.992945Z",
     "shell.execute_reply.started": "2023-05-29T00:19:44.987332Z"
    }
   },
   "outputs": [
    {
     "name": "stdout",
     "output_type": "stream",
     "text": [
      "prediction results\n",
      "x0, x1, y\n",
      " 0  0  0\n",
      " 0  1  0\n",
      " 1  0  0\n",
      " 1  1  1\n"
     ]
    }
   ],
   "source": [
    "def predict(X):\n",
    "    print ('prediction results')\n",
    "    print ('x0, x1, y')\n",
    "    for x in X:\n",
    "        print('{:2d}{:3d}{:3d}'.format(x[0], x[1], out(x)))\n",
    "\n",
    "predict(X)"
   ]
  },
  {
   "cell_type": "code",
   "execution_count": 26,
   "metadata": {
    "execution": {
     "iopub.execute_input": "2023-05-29T00:19:56.198103Z",
     "iopub.status.busy": "2023-05-29T00:19:56.197732Z",
     "iopub.status.idle": "2023-05-29T00:19:56.208869Z",
     "shell.execute_reply": "2023-05-29T00:19:56.207847Z",
     "shell.execute_reply.started": "2023-05-29T00:19:56.198072Z"
    }
   },
   "outputs": [
    {
     "name": "stdout",
     "output_type": "stream",
     "text": [
      "-- Epoch 1\n",
      "Norm: 0.00, NNZs: 0, Bias: -1.000000, T: 4, Avg. loss: 0.750000\n",
      "Total training time: 0.00 seconds.\n",
      "-- Epoch 2\n",
      "Norm: 1.41, NNZs: 2, Bias: 0.000000, T: 8, Avg. loss: 0.250000\n",
      "Total training time: 0.00 seconds.\n",
      "-- Epoch 3\n",
      "Norm: 0.00, NNZs: 0, Bias: -2.000000, T: 12, Avg. loss: 0.250000\n",
      "Total training time: 0.00 seconds.\n",
      "-- Epoch 4\n",
      "Norm: 1.41, NNZs: 2, Bias: -1.000000, T: 16, Avg. loss: 0.500000\n",
      "Total training time: 0.00 seconds.\n",
      "-- Epoch 5\n",
      "Norm: 1.00, NNZs: 1, Bias: -2.000000, T: 20, Avg. loss: 0.000000\n",
      "Total training time: 0.00 seconds.\n",
      "-- Epoch 6\n",
      "Norm: 2.24, NNZs: 2, Bias: -1.000000, T: 24, Avg. loss: 0.250000\n",
      "Total training time: 0.00 seconds.\n",
      "-- Epoch 7\n",
      "Norm: 1.00, NNZs: 1, Bias: -3.000000, T: 28, Avg. loss: 0.000000\n",
      "Total training time: 0.00 seconds.\n",
      "-- Epoch 8\n",
      "Norm: 2.24, NNZs: 2, Bias: -2.000000, T: 32, Avg. loss: 0.500000\n",
      "Total training time: 0.00 seconds.\n",
      "-- Epoch 9\n",
      "Norm: 1.41, NNZs: 2, Bias: -3.000000, T: 36, Avg. loss: 0.000000\n",
      "Total training time: 0.00 seconds.\n",
      "-- Epoch 10\n",
      "Norm: 2.83, NNZs: 2, Bias: -2.000000, T: 40, Avg. loss: 0.250000\n",
      "Total training time: 0.00 seconds.\n",
      "Convergence after 10 epochs took 0.00 seconds\n"
     ]
    },
    {
     "data": {
      "text/html": [
       "<style>#sk-container-id-3 {color: black;background-color: white;}#sk-container-id-3 pre{padding: 0;}#sk-container-id-3 div.sk-toggleable {background-color: white;}#sk-container-id-3 label.sk-toggleable__label {cursor: pointer;display: block;width: 100%;margin-bottom: 0;padding: 0.3em;box-sizing: border-box;text-align: center;}#sk-container-id-3 label.sk-toggleable__label-arrow:before {content: \"▸\";float: left;margin-right: 0.25em;color: #696969;}#sk-container-id-3 label.sk-toggleable__label-arrow:hover:before {color: black;}#sk-container-id-3 div.sk-estimator:hover label.sk-toggleable__label-arrow:before {color: black;}#sk-container-id-3 div.sk-toggleable__content {max-height: 0;max-width: 0;overflow: hidden;text-align: left;background-color: #f0f8ff;}#sk-container-id-3 div.sk-toggleable__content pre {margin: 0.2em;color: black;border-radius: 0.25em;background-color: #f0f8ff;}#sk-container-id-3 input.sk-toggleable__control:checked~div.sk-toggleable__content {max-height: 200px;max-width: 100%;overflow: auto;}#sk-container-id-3 input.sk-toggleable__control:checked~label.sk-toggleable__label-arrow:before {content: \"▾\";}#sk-container-id-3 div.sk-estimator input.sk-toggleable__control:checked~label.sk-toggleable__label {background-color: #d4ebff;}#sk-container-id-3 div.sk-label input.sk-toggleable__control:checked~label.sk-toggleable__label {background-color: #d4ebff;}#sk-container-id-3 input.sk-hidden--visually {border: 0;clip: rect(1px 1px 1px 1px);clip: rect(1px, 1px, 1px, 1px);height: 1px;margin: -1px;overflow: hidden;padding: 0;position: absolute;width: 1px;}#sk-container-id-3 div.sk-estimator {font-family: monospace;background-color: #f0f8ff;border: 1px dotted black;border-radius: 0.25em;box-sizing: border-box;margin-bottom: 0.5em;}#sk-container-id-3 div.sk-estimator:hover {background-color: #d4ebff;}#sk-container-id-3 div.sk-parallel-item::after {content: \"\";width: 100%;border-bottom: 1px solid gray;flex-grow: 1;}#sk-container-id-3 div.sk-label:hover label.sk-toggleable__label {background-color: #d4ebff;}#sk-container-id-3 div.sk-serial::before {content: \"\";position: absolute;border-left: 1px solid gray;box-sizing: border-box;top: 0;bottom: 0;left: 50%;z-index: 0;}#sk-container-id-3 div.sk-serial {display: flex;flex-direction: column;align-items: center;background-color: white;padding-right: 0.2em;padding-left: 0.2em;position: relative;}#sk-container-id-3 div.sk-item {position: relative;z-index: 1;}#sk-container-id-3 div.sk-parallel {display: flex;align-items: stretch;justify-content: center;background-color: white;position: relative;}#sk-container-id-3 div.sk-item::before, #sk-container-id-3 div.sk-parallel-item::before {content: \"\";position: absolute;border-left: 1px solid gray;box-sizing: border-box;top: 0;bottom: 0;left: 50%;z-index: -1;}#sk-container-id-3 div.sk-parallel-item {display: flex;flex-direction: column;z-index: 1;position: relative;background-color: white;}#sk-container-id-3 div.sk-parallel-item:first-child::after {align-self: flex-end;width: 50%;}#sk-container-id-3 div.sk-parallel-item:last-child::after {align-self: flex-start;width: 50%;}#sk-container-id-3 div.sk-parallel-item:only-child::after {width: 0;}#sk-container-id-3 div.sk-dashed-wrapped {border: 1px dashed gray;margin: 0 0.4em 0.5em 0.4em;box-sizing: border-box;padding-bottom: 0.4em;background-color: white;}#sk-container-id-3 div.sk-label label {font-family: monospace;font-weight: bold;display: inline-block;line-height: 1.2em;}#sk-container-id-3 div.sk-label-container {text-align: center;}#sk-container-id-3 div.sk-container {/* jupyter's `normalize.less` sets `[hidden] { display: none; }` but bootstrap.min.css set `[hidden] { display: none !important; }` so we also need the `!important` here to be able to override the default hidden behavior on the sphinx rendered scikit-learn.org. See: https://github.com/scikit-learn/scikit-learn/issues/21755 */display: inline-block !important;position: relative;}#sk-container-id-3 div.sk-text-repr-fallback {display: none;}</style><div id=\"sk-container-id-3\" class=\"sk-top-container\"><div class=\"sk-text-repr-fallback\"><pre>Perceptron(verbose=1)</pre><b>In a Jupyter environment, please rerun this cell to show the HTML representation or trust the notebook. <br />On GitHub, the HTML representation is unable to render, please try loading this page with nbviewer.org.</b></div><div class=\"sk-container\" hidden><div class=\"sk-item\"><div class=\"sk-estimator sk-toggleable\"><input class=\"sk-toggleable__control sk-hidden--visually\" id=\"sk-estimator-id-3\" type=\"checkbox\" checked><label for=\"sk-estimator-id-3\" class=\"sk-toggleable__label sk-toggleable__label-arrow\">Perceptron</label><div class=\"sk-toggleable__content\"><pre>Perceptron(verbose=1)</pre></div></div></div></div></div>"
      ],
      "text/plain": [
       "Perceptron(verbose=1)"
      ]
     },
     "execution_count": 26,
     "metadata": {},
     "output_type": "execute_result"
    }
   ],
   "source": [
    "from sklearn.linear_model import Perceptron\n",
    "\n",
    "model = Perceptron(verbose=1)\n",
    "model.fit(X[:,0:2],Y)"
   ]
  },
  {
   "cell_type": "code",
   "execution_count": 27,
   "metadata": {
    "execution": {
     "iopub.execute_input": "2023-05-29T00:20:00.131341Z",
     "iopub.status.busy": "2023-05-29T00:20:00.130959Z",
     "iopub.status.idle": "2023-05-29T00:20:00.136816Z",
     "shell.execute_reply": "2023-05-29T00:20:00.136089Z",
     "shell.execute_reply.started": "2023-05-29T00:20:00.131315Z"
    }
   },
   "outputs": [
    {
     "name": "stdout",
     "output_type": "stream",
     "text": [
      "[[2. 2.]]\n",
      "[-2.]\n"
     ]
    }
   ],
   "source": [
    "print(model.coef_)\n",
    "print(model.intercept_)"
   ]
  },
  {
   "cell_type": "code",
   "execution_count": 29,
   "metadata": {
    "execution": {
     "iopub.execute_input": "2023-05-29T00:30:58.886717Z",
     "iopub.status.busy": "2023-05-29T00:30:58.886412Z",
     "iopub.status.idle": "2023-05-29T00:30:58.894724Z",
     "shell.execute_reply": "2023-05-29T00:30:58.893567Z",
     "shell.execute_reply.started": "2023-05-29T00:30:58.886694Z"
    }
   },
   "outputs": [
    {
     "data": {
      "text/plain": [
       "array([0, 0, 0, 1])"
      ]
     },
     "execution_count": 29,
     "metadata": {},
     "output_type": "execute_result"
    }
   ],
   "source": [
    "model.predict(X[:,0:2])"
   ]
  },
  {
   "cell_type": "code",
   "execution_count": 52,
   "metadata": {
    "execution": {
     "iopub.execute_input": "2023-05-29T00:46:43.045598Z",
     "iopub.status.busy": "2023-05-29T00:46:43.045286Z",
     "iopub.status.idle": "2023-05-29T00:46:43.092044Z",
     "shell.execute_reply": "2023-05-29T00:46:43.091097Z",
     "shell.execute_reply.started": "2023-05-29T00:46:43.045577Z"
    }
   },
   "outputs": [
    {
     "name": "stdout",
     "output_type": "stream",
     "text": [
      "RUNNING THE L-BFGS-B CODE\n",
      "\n",
      "           * * *\n",
      "\n",
      "Machine precision = 2.220D-16\n",
      " N =           20     M =           10\n",
      "\n",
      "At X0         0 variables are exactly at the bounds\n",
      "\n",
      "At iterate    0    f=  7.06083D-01    |proj g|=  7.96747D-02\n",
      "\n",
      "At iterate    1    f=  6.93224D-01    |proj g|=  1.87951D-03\n",
      "\n",
      "At iterate    2    f=  6.93214D-01    |proj g|=  5.24064D-04\n",
      "\n",
      "At iterate    3    f=  6.93203D-01    |proj g|=  1.32890D-03\n",
      "\n",
      "At iterate    4    f=  6.93169D-01    |proj g|=  2.88028D-03\n",
      "\n",
      "At iterate    5    f=  6.93032D-01    |proj g|=  7.03962D-03\n",
      "\n",
      "At iterate    6    f=  6.92872D-01    |proj g|=  9.05882D-03\n",
      "\n",
      "At iterate    7    f=  6.92702D-01    |proj g|=  6.42586D-03\n",
      "\n",
      "At iterate    8    f=  6.92570D-01    |proj g|=  1.59499D-03\n",
      "\n",
      "At iterate    9    f=  6.92532D-01    |proj g|=  2.13261D-03\n",
      "\n",
      "At iterate   10    f=  6.92481D-01    |proj g|=  4.20416D-03\n",
      "\n",
      "At iterate   11    f=  6.92360D-01    |proj g|=  7.68469D-03\n",
      "\n",
      "At iterate   12    f=  6.90732D-01    |proj g|=  4.34370D-02\n",
      "\n",
      "At iterate   13    f=  6.89249D-01    |proj g|=  8.52807D-02\n",
      "\n",
      "At iterate   14    f=  6.88055D-01    |proj g|=  1.03677D-01\n",
      "\n",
      "At iterate   15    f=  6.77850D-01    |proj g|=  1.47770D-01\n",
      "\n",
      "At iterate   16    f=  6.44319D-01    |proj g|=  2.10401D-01\n",
      "\n",
      "At iterate   17    f=  5.80150D-01    |proj g|=  1.50538D-01\n",
      "\n",
      "At iterate   18    f=  5.16220D-01    |proj g|=  1.64637D-02\n",
      "\n",
      "At iterate   19    f=  5.12743D-01    |proj g|=  1.61322D-02\n",
      "\n",
      "At iterate   20    f=  4.99429D-01    |proj g|=  1.13929D-02\n",
      "\n",
      "At iterate   21    f=  4.82396D-01    |proj g|=  5.21105D-02\n",
      "\n",
      "At iterate   22    f=  4.80013D-01    |proj g|=  6.27405D-02\n",
      "\n",
      "At iterate   23    f=  4.70504D-01    |proj g|=  8.22087D-02\n",
      "\n",
      "At iterate   24    f=  4.55408D-01    |proj g|=  1.13750D-01\n",
      "\n",
      "At iterate   25    f=  4.17099D-01    |proj g|=  1.44025D-01\n",
      "\n",
      "At iterate   26    f=  3.49037D-01    |proj g|=  4.56615D-02\n",
      "\n",
      "At iterate   27    f=  3.32725D-01    |proj g|=  5.25997D-02\n",
      "\n",
      "At iterate   28    f=  2.56129D-01    |proj g|=  2.70666D-01\n",
      "\n",
      "At iterate   29    f=  1.77384D-01    |proj g|=  1.88682D-01\n",
      "\n",
      "At iterate   30    f=  1.22047D-01    |proj g|=  6.22258D-02\n",
      "\n",
      "At iterate   31    f=  1.04464D-01    |proj g|=  3.23185D-02\n",
      "\n",
      "At iterate   32    f=  8.70182D-02    |proj g|=  1.24751D-02\n",
      "\n",
      "At iterate   33    f=  7.28092D-02    |proj g|=  9.41421D-03\n",
      "\n",
      "At iterate   34    f=  6.13828D-02    |proj g|=  8.91772D-03\n",
      "\n",
      "At iterate   35    f=  4.39311D-02    |proj g|=  8.42399D-03\n",
      "\n",
      "At iterate   36    f=  4.12300D-02    |proj g|=  7.35248D-03\n",
      "\n",
      "At iterate   37    f=  3.71792D-02    |proj g|=  3.64069D-03\n",
      "\n",
      "At iterate   38    f=  3.15965D-02    |proj g|=  2.10825D-03\n",
      "\n",
      "At iterate   39    f=  3.04380D-02    |proj g|=  2.28850D-03\n",
      "\n",
      "At iterate   40    f=  2.72788D-02    |proj g|=  3.90371D-03\n",
      "\n",
      "At iterate   41    f=  2.47624D-02    |proj g|=  5.79867D-03\n",
      "\n",
      "At iterate   42    f=  1.58925D-02    |proj g|=  1.23441D-02\n",
      "\n",
      "At iterate   43    f=  1.43820D-02    |proj g|=  6.34475D-03\n",
      "\n",
      "At iterate   44    f=  1.27494D-02    |proj g|=  1.59290D-03\n",
      "\n",
      "At iterate   45    f=  1.06181D-02    |proj g|=  1.23452D-03\n",
      "\n",
      "At iterate   46    f=  9.99579D-03    |proj g|=  2.38155D-03\n",
      "\n",
      "At iterate   47    f=  8.53329D-03    |proj g|=  1.54631D-03\n",
      "\n",
      "At iterate   48    f=  7.59822D-03    |proj g|=  8.92974D-04\n",
      "\n",
      "At iterate   49    f=  7.12152D-03    |proj g|=  6.48796D-04\n",
      "\n",
      "At iterate   50    f=  6.95882D-03    |proj g|=  4.62574D-04\n",
      "\n",
      "At iterate   51    f=  6.83569D-03    |proj g|=  4.04752D-04\n",
      "\n",
      "At iterate   52    f=  6.45504D-03    |proj g|=  5.46648D-04\n"
     ]
    },
    {
     "name": "stderr",
     "output_type": "stream",
     "text": [
      " This problem is unconstrained.\n"
     ]
    },
    {
     "data": {
      "text/html": [
       "<style>#sk-container-id-12 {color: black;background-color: white;}#sk-container-id-12 pre{padding: 0;}#sk-container-id-12 div.sk-toggleable {background-color: white;}#sk-container-id-12 label.sk-toggleable__label {cursor: pointer;display: block;width: 100%;margin-bottom: 0;padding: 0.3em;box-sizing: border-box;text-align: center;}#sk-container-id-12 label.sk-toggleable__label-arrow:before {content: \"▸\";float: left;margin-right: 0.25em;color: #696969;}#sk-container-id-12 label.sk-toggleable__label-arrow:hover:before {color: black;}#sk-container-id-12 div.sk-estimator:hover label.sk-toggleable__label-arrow:before {color: black;}#sk-container-id-12 div.sk-toggleable__content {max-height: 0;max-width: 0;overflow: hidden;text-align: left;background-color: #f0f8ff;}#sk-container-id-12 div.sk-toggleable__content pre {margin: 0.2em;color: black;border-radius: 0.25em;background-color: #f0f8ff;}#sk-container-id-12 input.sk-toggleable__control:checked~div.sk-toggleable__content {max-height: 200px;max-width: 100%;overflow: auto;}#sk-container-id-12 input.sk-toggleable__control:checked~label.sk-toggleable__label-arrow:before {content: \"▾\";}#sk-container-id-12 div.sk-estimator input.sk-toggleable__control:checked~label.sk-toggleable__label {background-color: #d4ebff;}#sk-container-id-12 div.sk-label input.sk-toggleable__control:checked~label.sk-toggleable__label {background-color: #d4ebff;}#sk-container-id-12 input.sk-hidden--visually {border: 0;clip: rect(1px 1px 1px 1px);clip: rect(1px, 1px, 1px, 1px);height: 1px;margin: -1px;overflow: hidden;padding: 0;position: absolute;width: 1px;}#sk-container-id-12 div.sk-estimator {font-family: monospace;background-color: #f0f8ff;border: 1px dotted black;border-radius: 0.25em;box-sizing: border-box;margin-bottom: 0.5em;}#sk-container-id-12 div.sk-estimator:hover {background-color: #d4ebff;}#sk-container-id-12 div.sk-parallel-item::after {content: \"\";width: 100%;border-bottom: 1px solid gray;flex-grow: 1;}#sk-container-id-12 div.sk-label:hover label.sk-toggleable__label {background-color: #d4ebff;}#sk-container-id-12 div.sk-serial::before {content: \"\";position: absolute;border-left: 1px solid gray;box-sizing: border-box;top: 0;bottom: 0;left: 50%;z-index: 0;}#sk-container-id-12 div.sk-serial {display: flex;flex-direction: column;align-items: center;background-color: white;padding-right: 0.2em;padding-left: 0.2em;position: relative;}#sk-container-id-12 div.sk-item {position: relative;z-index: 1;}#sk-container-id-12 div.sk-parallel {display: flex;align-items: stretch;justify-content: center;background-color: white;position: relative;}#sk-container-id-12 div.sk-item::before, #sk-container-id-12 div.sk-parallel-item::before {content: \"\";position: absolute;border-left: 1px solid gray;box-sizing: border-box;top: 0;bottom: 0;left: 50%;z-index: -1;}#sk-container-id-12 div.sk-parallel-item {display: flex;flex-direction: column;z-index: 1;position: relative;background-color: white;}#sk-container-id-12 div.sk-parallel-item:first-child::after {align-self: flex-end;width: 50%;}#sk-container-id-12 div.sk-parallel-item:last-child::after {align-self: flex-start;width: 50%;}#sk-container-id-12 div.sk-parallel-item:only-child::after {width: 0;}#sk-container-id-12 div.sk-dashed-wrapped {border: 1px dashed gray;margin: 0 0.4em 0.5em 0.4em;box-sizing: border-box;padding-bottom: 0.4em;background-color: white;}#sk-container-id-12 div.sk-label label {font-family: monospace;font-weight: bold;display: inline-block;line-height: 1.2em;}#sk-container-id-12 div.sk-label-container {text-align: center;}#sk-container-id-12 div.sk-container {/* jupyter's `normalize.less` sets `[hidden] { display: none; }` but bootstrap.min.css set `[hidden] { display: none !important; }` so we also need the `!important` here to be able to override the default hidden behavior on the sphinx rendered scikit-learn.org. See: https://github.com/scikit-learn/scikit-learn/issues/21755 */display: inline-block !important;position: relative;}#sk-container-id-12 div.sk-text-repr-fallback {display: none;}</style><div id=\"sk-container-id-12\" class=\"sk-top-container\"><div class=\"sk-text-repr-fallback\"><pre>MLPClassifier(activation=&#x27;logistic&#x27;, hidden_layer_sizes=(3, 2), max_iter=100,\n",
       "              solver=&#x27;lbfgs&#x27;, verbose=1)</pre><b>In a Jupyter environment, please rerun this cell to show the HTML representation or trust the notebook. <br />On GitHub, the HTML representation is unable to render, please try loading this page with nbviewer.org.</b></div><div class=\"sk-container\" hidden><div class=\"sk-item\"><div class=\"sk-estimator sk-toggleable\"><input class=\"sk-toggleable__control sk-hidden--visually\" id=\"sk-estimator-id-12\" type=\"checkbox\" checked><label for=\"sk-estimator-id-12\" class=\"sk-toggleable__label sk-toggleable__label-arrow\">MLPClassifier</label><div class=\"sk-toggleable__content\"><pre>MLPClassifier(activation=&#x27;logistic&#x27;, hidden_layer_sizes=(3, 2), max_iter=100,\n",
       "              solver=&#x27;lbfgs&#x27;, verbose=1)</pre></div></div></div></div></div>"
      ],
      "text/plain": [
       "MLPClassifier(activation='logistic', hidden_layer_sizes=(3, 2), max_iter=100,\n",
       "              solver='lbfgs', verbose=1)"
      ]
     },
     "execution_count": 52,
     "metadata": {},
     "output_type": "execute_result"
    },
    {
     "name": "stdout",
     "output_type": "stream",
     "text": [
      "\n",
      "At iterate   53    f=  6.23937D-03    |proj g|=  1.99994D-04\n",
      "\n",
      "At iterate   54    f=  6.08806D-03    |proj g|=  1.70559D-04\n",
      "\n",
      "At iterate   55    f=  5.94440D-03    |proj g|=  2.22142D-04\n",
      "\n",
      "At iterate   56    f=  5.87126D-03    |proj g|=  7.76410D-05\n",
      "\n",
      "           * * *\n",
      "\n",
      "Tit   = total number of iterations\n",
      "Tnf   = total number of function evaluations\n",
      "Tnint = total number of segments explored during Cauchy searches\n",
      "Skip  = number of BFGS updates skipped\n",
      "Nact  = number of active bounds at final generalized Cauchy point\n",
      "Projg = norm of the final projected gradient\n",
      "F     = final function value\n",
      "\n",
      "           * * *\n",
      "\n",
      "   N    Tit     Tnf  Tnint  Skip  Nact     Projg        F\n",
      "   20     56     83      1     0     0   7.764D-05   5.871D-03\n",
      "  F =   5.8712639294713617E-003\n",
      "\n",
      "CONVERGENCE: NORM_OF_PROJECTED_GRADIENT_<=_PGTOL            \n"
     ]
    }
   ],
   "source": [
    "#code 13-2\n",
    "from sklearn.neural_network import MLPClassifier\n",
    "X_xor = X[:,0:2]\n",
    "Y_xor = ([0,1,1,0])\n",
    "\n",
    "model_xor = MLPClassifier(hidden_layer_sizes=(3,2),   #hidden layer size = (3,2) 이면 input 2개, \n",
    "                                                      #hidden layer에 3개짜리 하나와 , 2개짜리 하나가 생긴다.\n",
    "                          activation='logistic', #logistic function\n",
    "                          solver ='lbfgs', #limited-memory BFGS\n",
    "                          max_iter=100, verbose=1)\n",
    "model_xor.fit(X_xor,Y_xor)"
   ]
  },
  {
   "cell_type": "code",
   "execution_count": 53,
   "metadata": {
    "execution": {
     "iopub.execute_input": "2023-05-29T00:46:46.684842Z",
     "iopub.status.busy": "2023-05-29T00:46:46.684497Z",
     "iopub.status.idle": "2023-05-29T00:46:46.690088Z",
     "shell.execute_reply": "2023-05-29T00:46:46.689275Z",
     "shell.execute_reply.started": "2023-05-29T00:46:46.684815Z"
    },
    "scrolled": false
   },
   "outputs": [
    {
     "name": "stdout",
     "output_type": "stream",
     "text": [
      "[array([[ 4.52216369,  4.91471562, -1.36207885],\n",
      "       [-4.5273651 , -4.13953616, -2.4623474 ]]), array([[ 4.23991839, -6.05545323],\n",
      "       [-4.71293334,  6.72848285],\n",
      "       [ 0.34803067, -0.38289926]]), array([[-5.96932663],\n",
      "       [12.73503556]])]\n"
     ]
    }
   ],
   "source": [
    "print(model_xor.coefs_)"
   ]
  },
  {
   "cell_type": "code",
   "execution_count": 54,
   "metadata": {
    "execution": {
     "iopub.execute_input": "2023-05-29T00:46:50.292371Z",
     "iopub.status.busy": "2023-05-29T00:46:50.291999Z",
     "iopub.status.idle": "2023-05-29T00:46:50.299661Z",
     "shell.execute_reply": "2023-05-29T00:46:50.298365Z",
     "shell.execute_reply.started": "2023-05-29T00:46:50.292343Z"
    }
   },
   "outputs": [
    {
     "data": {
      "text/plain": [
       "array([0, 1, 1, 0])"
      ]
     },
     "execution_count": 54,
     "metadata": {},
     "output_type": "execute_result"
    }
   ],
   "source": [
    "model_xor.predict(X_xor)"
   ]
  },
  {
   "cell_type": "code",
   "execution_count": null,
   "metadata": {},
   "outputs": [],
   "source": []
  }
 ],
 "metadata": {
  "kernelspec": {
   "display_name": "Python 3 (ipykernel)",
   "language": "python",
   "name": "python3"
  },
  "language_info": {
   "codemirror_mode": {
    "name": "ipython",
    "version": 3
   },
   "file_extension": ".py",
   "mimetype": "text/x-python",
   "name": "python",
   "nbconvert_exporter": "python",
   "pygments_lexer": "ipython3",
   "version": "3.10.9"
  }
 },
 "nbformat": 4,
 "nbformat_minor": 4
}
