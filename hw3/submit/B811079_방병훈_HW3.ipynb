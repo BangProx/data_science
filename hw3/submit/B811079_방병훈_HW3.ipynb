{
 "cells": [
  {
   "cell_type": "code",
   "execution_count": 205,
   "id": "0214d165",
   "metadata": {},
   "outputs": [],
   "source": [
    "import pandas as pd\n",
    "import numpy as np\n",
    "import matplotlib.pyplot as plt\n",
    "import seaborn as sns\n",
    "from sklearn.model_selection import train_test_split\n",
    "from sklearn.neighbors import KNeighborsClassifier\n",
    "from sklearn.svm import LinearSVC\n",
    "from sklearn.tree import DecisionTreeClassifier  \n",
    "from sklearn.metrics import accuracy_score\n",
    "from sklearn.metrics import classification_report                   \n",
    "from sklearn.preprocessing import LabelEncoder\n",
    "from sklearn.preprocessing import StandardScaler\n",
    "\n",
    "train = pd.read_csv(\"drug200.csv\")"
   ]
  },
  {
   "cell_type": "code",
   "execution_count": 206,
   "id": "c5c5de44",
   "metadata": {},
   "outputs": [
    {
     "name": "stdout",
     "output_type": "stream",
     "text": [
      "   Age Sex      BP Cholesterol  Na_to_K   Drug\n",
      "0   23   F    HIGH        HIGH   25.355  DrugY\n",
      "1   47   M     LOW        HIGH   13.093  drugC\n",
      "2   47   M     LOW        HIGH   10.114  drugC\n",
      "3   28   F  NORMAL        HIGH    7.798  drugX\n",
      "4   61   F     LOW        HIGH   18.043  DrugY \n",
      "\n",
      "shape :  (200, 6) \n",
      "\n",
      "              Age     Na_to_K\n",
      "count  200.000000  200.000000\n",
      "mean    44.315000   16.084485\n",
      "std     16.544315    7.223956\n",
      "min     15.000000    6.269000\n",
      "25%     31.000000   10.445500\n",
      "50%     45.000000   13.936500\n",
      "75%     58.000000   19.380000\n",
      "max     74.000000   38.247000\n"
     ]
    }
   ],
   "source": [
    "#EDA 1\n",
    "print(train.head(),\"\\n\")\n",
    "print(\"shape : \", train.shape, \"\\n\")\n",
    "print(train.describe())"
   ]
  },
  {
   "cell_type": "code",
   "execution_count": 207,
   "id": "e9b0501b",
   "metadata": {},
   "outputs": [
    {
     "name": "stdout",
     "output_type": "stream",
     "text": [
      "['F' 'M']\n",
      "['HIGH' 'LOW' 'NORMAL']\n",
      "['HIGH' 'NORMAL']\n",
      "['DrugY' 'drugC' 'drugX' 'drugA' 'drugB']\n",
      "\n",
      "Target Data Check\n",
      " DrugY    91\n",
      "drugX    54\n",
      "drugA    23\n",
      "drugC    16\n",
      "drugB    16\n",
      "Name: Drug, dtype: int64\n"
     ]
    }
   ],
   "source": [
    "#EDA 2\n",
    "str_label = train.columns\n",
    "str_label = str_label.drop(labels = ['Age','Na_to_K'])\n",
    "\n",
    "for label in str_label:\n",
    "    print(train[label].unique())\n",
    "\n",
    "print(\"\\nTarget Data Check\\n\",train['Drug'].value_counts())"
   ]
  },
  {
   "cell_type": "code",
   "execution_count": 208,
   "id": "9d37b447",
   "metadata": {},
   "outputs": [
    {
     "data": {
      "text/html": [
       "<div>\n",
       "<style scoped>\n",
       "    .dataframe tbody tr th:only-of-type {\n",
       "        vertical-align: middle;\n",
       "    }\n",
       "\n",
       "    .dataframe tbody tr th {\n",
       "        vertical-align: top;\n",
       "    }\n",
       "\n",
       "    .dataframe thead th {\n",
       "        text-align: right;\n",
       "    }\n",
       "</style>\n",
       "<table border=\"1\" class=\"dataframe\">\n",
       "  <thead>\n",
       "    <tr style=\"text-align: right;\">\n",
       "      <th></th>\n",
       "      <th>Age</th>\n",
       "      <th>Sex</th>\n",
       "      <th>BP</th>\n",
       "      <th>Cholesterol</th>\n",
       "      <th>Na_to_K</th>\n",
       "      <th>Drug</th>\n",
       "    </tr>\n",
       "  </thead>\n",
       "  <tbody>\n",
       "    <tr>\n",
       "      <th>0</th>\n",
       "      <td>23</td>\n",
       "      <td>0</td>\n",
       "      <td>0</td>\n",
       "      <td>0</td>\n",
       "      <td>25.355</td>\n",
       "      <td>0</td>\n",
       "    </tr>\n",
       "    <tr>\n",
       "      <th>1</th>\n",
       "      <td>47</td>\n",
       "      <td>1</td>\n",
       "      <td>1</td>\n",
       "      <td>0</td>\n",
       "      <td>13.093</td>\n",
       "      <td>3</td>\n",
       "    </tr>\n",
       "    <tr>\n",
       "      <th>2</th>\n",
       "      <td>47</td>\n",
       "      <td>1</td>\n",
       "      <td>1</td>\n",
       "      <td>0</td>\n",
       "      <td>10.114</td>\n",
       "      <td>3</td>\n",
       "    </tr>\n",
       "    <tr>\n",
       "      <th>3</th>\n",
       "      <td>28</td>\n",
       "      <td>0</td>\n",
       "      <td>2</td>\n",
       "      <td>0</td>\n",
       "      <td>7.798</td>\n",
       "      <td>4</td>\n",
       "    </tr>\n",
       "    <tr>\n",
       "      <th>4</th>\n",
       "      <td>61</td>\n",
       "      <td>0</td>\n",
       "      <td>1</td>\n",
       "      <td>0</td>\n",
       "      <td>18.043</td>\n",
       "      <td>0</td>\n",
       "    </tr>\n",
       "    <tr>\n",
       "      <th>...</th>\n",
       "      <td>...</td>\n",
       "      <td>...</td>\n",
       "      <td>...</td>\n",
       "      <td>...</td>\n",
       "      <td>...</td>\n",
       "      <td>...</td>\n",
       "    </tr>\n",
       "    <tr>\n",
       "      <th>195</th>\n",
       "      <td>56</td>\n",
       "      <td>0</td>\n",
       "      <td>1</td>\n",
       "      <td>0</td>\n",
       "      <td>11.567</td>\n",
       "      <td>3</td>\n",
       "    </tr>\n",
       "    <tr>\n",
       "      <th>196</th>\n",
       "      <td>16</td>\n",
       "      <td>1</td>\n",
       "      <td>1</td>\n",
       "      <td>0</td>\n",
       "      <td>12.006</td>\n",
       "      <td>3</td>\n",
       "    </tr>\n",
       "    <tr>\n",
       "      <th>197</th>\n",
       "      <td>52</td>\n",
       "      <td>1</td>\n",
       "      <td>2</td>\n",
       "      <td>0</td>\n",
       "      <td>9.894</td>\n",
       "      <td>4</td>\n",
       "    </tr>\n",
       "    <tr>\n",
       "      <th>198</th>\n",
       "      <td>23</td>\n",
       "      <td>1</td>\n",
       "      <td>2</td>\n",
       "      <td>1</td>\n",
       "      <td>14.020</td>\n",
       "      <td>4</td>\n",
       "    </tr>\n",
       "    <tr>\n",
       "      <th>199</th>\n",
       "      <td>40</td>\n",
       "      <td>0</td>\n",
       "      <td>1</td>\n",
       "      <td>1</td>\n",
       "      <td>11.349</td>\n",
       "      <td>4</td>\n",
       "    </tr>\n",
       "  </tbody>\n",
       "</table>\n",
       "<p>200 rows × 6 columns</p>\n",
       "</div>"
      ],
      "text/plain": [
       "     Age  Sex  BP  Cholesterol  Na_to_K  Drug\n",
       "0     23    0   0            0   25.355     0\n",
       "1     47    1   1            0   13.093     3\n",
       "2     47    1   1            0   10.114     3\n",
       "3     28    0   2            0    7.798     4\n",
       "4     61    0   1            0   18.043     0\n",
       "..   ...  ...  ..          ...      ...   ...\n",
       "195   56    0   1            0   11.567     3\n",
       "196   16    1   1            0   12.006     3\n",
       "197   52    1   2            0    9.894     4\n",
       "198   23    1   2            1   14.020     4\n",
       "199   40    0   1            1   11.349     4\n",
       "\n",
       "[200 rows x 6 columns]"
      ]
     },
     "execution_count": 208,
     "metadata": {},
     "output_type": "execute_result"
    }
   ],
   "source": [
    "#Preprocessing 1 : Label Encoding\n",
    "encoder = LabelEncoder()\n",
    "def label_encoder(label):\n",
    "    train[label] = encoder.fit_transform(train[label])\n",
    "\n",
    "for label in str_label:\n",
    "    label_encoder(label)\n",
    "\n",
    "train"
   ]
  },
  {
   "cell_type": "code",
   "execution_count": 209,
   "id": "5fdbe1d9",
   "metadata": {},
   "outputs": [
    {
     "data": {
      "text/plain": [
       "Age            0\n",
       "Sex            0\n",
       "BP             0\n",
       "Cholesterol    0\n",
       "Na_to_K        0\n",
       "Drug           0\n",
       "dtype: int64"
      ]
     },
     "execution_count": 209,
     "metadata": {},
     "output_type": "execute_result"
    }
   ],
   "source": [
    "#Preprocessing 2 : Missing Values\n",
    "train.isna().sum()"
   ]
  },
  {
   "cell_type": "code",
   "execution_count": 227,
   "id": "b2f752cc",
   "metadata": {},
   "outputs": [],
   "source": [
    "#Preprocessing 3 : train_test_split\n",
    "X = train[train.columns.drop('Drug')]\n",
    "y = train['Drug']\n",
    "X_train, X_test, y_train, y_test = train_test_split(X, y, test_size=0.2)"
   ]
  },
  {
   "cell_type": "code",
   "execution_count": 228,
   "id": "7286865f",
   "metadata": {},
   "outputs": [
    {
     "name": "stdout",
     "output_type": "stream",
     "text": [
      "k가  3 일때 (훈련 정확도, 검증 정확도) :  ( 0.875 , 0.7 )\n",
      "k가  4 일때 (훈련 정확도, 검증 정확도) :  ( 0.88125 , 0.675 )\n",
      "k가  5 일때 (훈련 정확도, 검증 정확도) :  ( 0.85625 , 0.65 )\n",
      "k가  6 일때 (훈련 정확도, 검증 정확도) :  ( 0.825 , 0.65 )\n",
      "k가  7 일때 (훈련 정확도, 검증 정확도) :  ( 0.8 , 0.625 )\n",
      "k가  8 일때 (훈련 정확도, 검증 정확도) :  ( 0.775 , 0.65 )\n",
      "k가  9 일때 (훈련 정확도, 검증 정확도) :  ( 0.75625 , 0.65 )\n",
      "k가  10 일때 (훈련 정확도, 검증 정확도) :  ( 0.78125 , 0.7 )\n"
     ]
    }
   ],
   "source": [
    "#Train \n",
    "#case 1 : knn\n",
    "for k in range(3,11):\n",
    "    knn = KNeighborsClassifier(n_neighbors = k)#k를 정해서 knn model의 객체를 만든다.\n",
    "    knn.fit(X_train, y_train)#knn data로 학습을 시킨다.\n",
    "    print(\"k가 \",k,\"일때 (훈련 정확도, 검증 정확도) : \",\"(\",accuracy_score(y_train,knn.predict(X_train)),\",\"\n",
    "          ,accuracy_score(y_test,knn.predict(X_test)),\")\")#훈련 결과를 확인하는 과정."
   ]
  },
  {
   "cell_type": "code",
   "execution_count": 235,
   "id": "b29605e6",
   "metadata": {},
   "outputs": [
    {
     "name": "stdout",
     "output_type": "stream",
     "text": [
      "C가  1 일때 정확도는  : 0.875\n",
      "C가  2 일때 정확도는  : 0.85\n",
      "C가  3 일때 정확도는  : 0.85\n",
      "C가  4 일때 정확도는  : 0.9\n",
      "C가  5 일때 정확도는  : 0.9\n",
      "C가  6 일때 정확도는  : 0.875\n",
      "C가  7 일때 정확도는  : 0.9\n",
      "C가  8 일때 정확도는  : 0.925\n",
      "C가  9 일때 정확도는  : 0.9\n"
     ]
    },
    {
     "name": "stderr",
     "output_type": "stream",
     "text": [
      "/Users/bangbyeonghun/miniconda3/lib/python3.10/site-packages/sklearn/svm/_base.py:1244: ConvergenceWarning: Liblinear failed to converge, increase the number of iterations.\n",
      "  warnings.warn(\n",
      "/Users/bangbyeonghun/miniconda3/lib/python3.10/site-packages/sklearn/svm/_base.py:1244: ConvergenceWarning: Liblinear failed to converge, increase the number of iterations.\n",
      "  warnings.warn(\n",
      "/Users/bangbyeonghun/miniconda3/lib/python3.10/site-packages/sklearn/svm/_base.py:1244: ConvergenceWarning: Liblinear failed to converge, increase the number of iterations.\n",
      "  warnings.warn(\n",
      "/Users/bangbyeonghun/miniconda3/lib/python3.10/site-packages/sklearn/svm/_base.py:1244: ConvergenceWarning: Liblinear failed to converge, increase the number of iterations.\n",
      "  warnings.warn(\n",
      "/Users/bangbyeonghun/miniconda3/lib/python3.10/site-packages/sklearn/svm/_base.py:1244: ConvergenceWarning: Liblinear failed to converge, increase the number of iterations.\n",
      "  warnings.warn(\n",
      "/Users/bangbyeonghun/miniconda3/lib/python3.10/site-packages/sklearn/svm/_base.py:1244: ConvergenceWarning: Liblinear failed to converge, increase the number of iterations.\n",
      "  warnings.warn(\n",
      "/Users/bangbyeonghun/miniconda3/lib/python3.10/site-packages/sklearn/svm/_base.py:1244: ConvergenceWarning: Liblinear failed to converge, increase the number of iterations.\n",
      "  warnings.warn(\n"
     ]
    }
   ],
   "source": [
    "#case 2 : svm\n",
    "scaler = StandardScaler()#standard scaler 객체를 만든다.\n",
    "scaler.fit(X)#fit을 통해서 X의 데이터에 대해서 mean, var를 계산을 한다.(평균 표준편차 구한다)\n",
    "X_scaled = scaler.transform(X)#fit과정이 끝나면 모든 X값에 대해서 앞서 구한 평균, 표준편차로 정규화를 진행한다.\n",
    "X_train, X_test, y_train, y_test = train_test_split(X_scaled, y, test_size=0.2)\n",
    "\n",
    "for cv in range(1,10):\n",
    "    svm = LinearSVC(C=cv,loss='hinge')#모델 설정\n",
    "    svm.fit(X_train,y_train)#fit으로 training input과 output을 넣어줘서 훈련을 수행한다. 즉, parameter를 구한다.\n",
    "    pred = svm.predict(X_test)\n",
    "    print(\"C가 \",cv,\"일때 정확도는  :\", accuracy_score(pred, y_test))"
   ]
  },
  {
   "cell_type": "code",
   "execution_count": 223,
   "id": "32954537",
   "metadata": {},
   "outputs": [
    {
     "name": "stdout",
     "output_type": "stream",
     "text": [
      "Accuracy of entropy:  97.5\n",
      "Report of entropy :                precision    recall  f1-score   support\n",
      "\n",
      "           0       1.00      1.00      1.00        15\n",
      "           1       0.86      1.00      0.92         6\n",
      "           2       1.00      0.75      0.86         4\n",
      "           3       1.00      1.00      1.00         1\n",
      "           4       1.00      1.00      1.00        14\n",
      "\n",
      "    accuracy                           0.97        40\n",
      "   macro avg       0.97      0.95      0.96        40\n",
      "weighted avg       0.98      0.97      0.97        40\n",
      "\n",
      "Accuracy of gini :  97.5\n",
      "Report of gini:                precision    recall  f1-score   support\n",
      "\n",
      "           0       1.00      1.00      1.00        15\n",
      "           1       0.86      1.00      0.92         6\n",
      "           2       1.00      0.75      0.86         4\n",
      "           3       1.00      1.00      1.00         1\n",
      "           4       1.00      1.00      1.00        14\n",
      "\n",
      "    accuracy                           0.97        40\n",
      "   macro avg       0.97      0.95      0.96        40\n",
      "weighted avg       0.98      0.97      0.97        40\n",
      "\n"
     ]
    }
   ],
   "source": [
    "#case 3 : Decision Tree\n",
    "tree_e = DecisionTreeClassifier(criterion=\"entropy\", max_depth = 4, min_samples_leaf = 3)\n",
    "tree_g = DecisionTreeClassifier(criterion=\"gini\", max_depth = 4, min_samples_leaf = 3)\n",
    "X_train, X_test, y_train, y_test = train_test_split(X_scaled, y, test_size=0.2)\n",
    "\n",
    "tree_e.fit(X_train, y_train)\n",
    "tree_g.fit(X_train, y_train)\n",
    "\n",
    "print (\"Accuracy of entropy: \", accuracy_score(y_test,tree_e.predict(X_test))*100)            \n",
    "print (\"Report of entropy : \",  classification_report(y_test, tree_e.predict(X_test)))\n",
    "\n",
    "print (\"Accuracy of gini : \", accuracy_score(y_test,tree_e.predict(X_test))*100)         \n",
    "print (\"Report of gini: \",  classification_report(y_test, tree_e.predict(X_test)))"
   ]
  },
  {
   "cell_type": "code",
   "execution_count": 224,
   "id": "f5e68b70",
   "metadata": {},
   "outputs": [
    {
     "data": {
      "text/plain": [
       "[Text(0.625, 0.9, 'x[4] <= -0.173\\ngini = 0.686\\nsamples = 160\\nvalue = [76, 17, 12, 15, 40]'),\n",
       " Text(0.5, 0.7, 'x[2] <= -0.5\\ngini = 0.68\\nsamples = 84\\nvalue = [0, 17, 12, 15, 40]'),\n",
       " Text(0.25, 0.5, 'x[0] <= 0.466\\ngini = 0.485\\nsamples = 29\\nvalue = [0, 17, 12, 0, 0]'),\n",
       " Text(0.125, 0.3, 'gini = 0.0\\nsamples = 17\\nvalue = [0, 17, 0, 0, 0]'),\n",
       " Text(0.375, 0.3, 'gini = 0.0\\nsamples = 12\\nvalue = [0, 0, 12, 0, 0]'),\n",
       " Text(0.75, 0.5, 'x[3] <= 0.03\\ngini = 0.397\\nsamples = 55\\nvalue = [0, 0, 0, 15, 40]'),\n",
       " Text(0.625, 0.3, 'x[2] <= 0.72\\ngini = 0.494\\nsamples = 27\\nvalue = [0, 0, 0, 15, 12]'),\n",
       " Text(0.5, 0.1, 'gini = 0.0\\nsamples = 15\\nvalue = [0, 0, 0, 15, 0]'),\n",
       " Text(0.75, 0.1, 'gini = 0.0\\nsamples = 12\\nvalue = [0, 0, 0, 0, 12]'),\n",
       " Text(0.875, 0.3, 'gini = 0.0\\nsamples = 28\\nvalue = [0, 0, 0, 0, 28]'),\n",
       " Text(0.75, 0.7, 'gini = 0.0\\nsamples = 76\\nvalue = [76, 0, 0, 0, 0]')]"
      ]
     },
     "execution_count": 224,
     "metadata": {},
     "output_type": "execute_result"
    },
    {
     "data": {
      "image/png": "[encoded data removed]",
      "text/plain": [
       "<Figure size 640x480 with 1 Axes>"
      ]
     },
     "metadata": {},
     "output_type": "display_data"
    }
   ],
   "source": [
    "from sklearn import tree                                            # Visualizing Decision Tree\n",
    "tree.plot_tree(tree_g)"
   ]
  },
  {
   "cell_type": "code",
   "execution_count": 225,
   "id": "30a58d2b",
   "metadata": {},
   "outputs": [
    {
     "data": {
      "text/plain": [
       "[Text(0.625, 0.9, 'x[4] <= -0.173\\nentropy = 1.954\\nsamples = 160\\nvalue = [76, 17, 12, 15, 40]'),\n",
       " Text(0.5, 0.7, 'x[2] <= -0.5\\nentropy = 1.821\\nsamples = 84\\nvalue = [0, 17, 12, 15, 40]'),\n",
       " Text(0.25, 0.5, 'x[0] <= 0.466\\nentropy = 0.978\\nsamples = 29\\nvalue = [0, 17, 12, 0, 0]'),\n",
       " Text(0.125, 0.3, 'entropy = 0.0\\nsamples = 17\\nvalue = [0, 17, 0, 0, 0]'),\n",
       " Text(0.375, 0.3, 'entropy = 0.0\\nsamples = 12\\nvalue = [0, 0, 12, 0, 0]'),\n",
       " Text(0.75, 0.5, 'x[3] <= 0.03\\nentropy = 0.845\\nsamples = 55\\nvalue = [0, 0, 0, 15, 40]'),\n",
       " Text(0.625, 0.3, 'x[2] <= 0.72\\nentropy = 0.991\\nsamples = 27\\nvalue = [0, 0, 0, 15, 12]'),\n",
       " Text(0.5, 0.1, 'entropy = 0.0\\nsamples = 15\\nvalue = [0, 0, 0, 15, 0]'),\n",
       " Text(0.75, 0.1, 'entropy = 0.0\\nsamples = 12\\nvalue = [0, 0, 0, 0, 12]'),\n",
       " Text(0.875, 0.3, 'entropy = 0.0\\nsamples = 28\\nvalue = [0, 0, 0, 0, 28]'),\n",
       " Text(0.75, 0.7, 'entropy = 0.0\\nsamples = 76\\nvalue = [76, 0, 0, 0, 0]')]"
      ]
     },
     "execution_count": 225,
     "metadata": {},
     "output_type": "execute_result"
    },
    {
     "data": {
      "image/png": "[encoded data removed]",
      "text/plain": [
       "<Figure size 640x480 with 1 Axes>"
      ]
     },
     "metadata": {},
     "output_type": "display_data"
    }
   ],
   "source": [
    "tree.plot_tree(tree_e)"
   ]
  },
  {
   "cell_type": "code",
   "execution_count": null,
   "id": "ed3e3daa",
   "metadata": {},
   "outputs": [],
   "source": []
  }
 ],
 "metadata": {
  "kernelspec": {
   "display_name": "Python 3 (ipykernel)",
   "language": "python",
   "name": "python3"
  },
  "language_info": {
   "codemirror_mode": {
    "name": "ipython",
    "version": 3
   },
   "file_extension": ".py",
   "mimetype": "text/x-python",
   "name": "python",
   "nbconvert_exporter": "python",
   "pygments_lexer": "ipython3",
   "version": "3.10.9"
  }
 },
 "nbformat": 4,
 "nbformat_minor": 5
}
