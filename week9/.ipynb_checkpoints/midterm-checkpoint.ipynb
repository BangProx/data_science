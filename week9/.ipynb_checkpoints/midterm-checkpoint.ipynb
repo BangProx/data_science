{
 "cells": [
  {
   "cell_type": "code",
   "execution_count": 2,
   "id": "fd18ea14",
   "metadata": {},
   "outputs": [
    {
     "name": "stdout",
     "output_type": "stream",
     "text": [
      "[1 2 3 4 5 6 7 8 9]\n",
      "[11 22 33 44 55 66 77 88 99]\n",
      "[[11 22 33]\n",
      " [44 55 66]\n",
      " [77 88 99]]\n"
     ]
    }
   ],
   "source": [
    "import numpy as np\n",
    "arr = np.arange(1,10)\n",
    "print(arr)\n",
    "arr *= 11\n",
    "print(arr)\n",
    "arr2 = arr.reshape(3,3)\n",
    "print(arr2)"
   ]
  },
  {
   "cell_type": "code",
   "execution_count": 3,
   "id": "8c7c9662",
   "metadata": {},
   "outputs": [
    {
     "name": "stdout",
     "output_type": "stream",
     "text": [
      "[[22 33]\n",
      " [55 66]]\n"
     ]
    }
   ],
   "source": [
    "print(arr2[0:2,1:3])"
   ]
  },
  {
   "cell_type": "code",
   "execution_count": 4,
   "id": "e4ac4f34",
   "metadata": {},
   "outputs": [
    {
     "name": "stdout",
     "output_type": "stream",
     "text": [
      "[[11 22]\n",
      " [44 55]\n",
      " [77 88]]\n"
     ]
    }
   ],
   "source": [
    "print(arr2[:,:-1])\n",
    "#-1 = 2이다. 따라서 [ :-1] 은 [0,1]을 의미한다."
   ]
  },
  {
   "cell_type": "code",
   "execution_count": 5,
   "id": "cc21f2d2",
   "metadata": {},
   "outputs": [],
   "source": [
    "img = np.array([[1.,2.],[3.,4.]])\n",
    "\n",
    "def filter1(img):\n",
    "    height, width = len(img),len(img[0])\n",
    "    f_img = np.zeros((width,height))\n",
    "    for i in range(height):\n",
    "        f_img[:,(height-1)-i] = img[i,:] #img(rotate(90))의 결과와 같다.\n",
    "    return f_img\n",
    "def filter2(img):\n",
    "    height, width = len(img),len(img[0])\n",
    "    f_img = np.zeros((width,height))\n",
    "    for i in range(height):\n",
    "        f_img[i] = img[i,::-1]\n",
    "    return f_img\n"
   ]
  },
  {
   "cell_type": "code",
   "execution_count": 6,
   "id": "130e975c",
   "metadata": {},
   "outputs": [
    {
     "ename": "NameError",
     "evalue": "name 'record' is not defined",
     "output_type": "error",
     "traceback": [
      "\u001b[0;31m---------------------------------------------------------------------------\u001b[0m",
      "\u001b[0;31mNameError\u001b[0m                                 Traceback (most recent call last)",
      "Cell \u001b[0;32mIn[6], line 1\u001b[0m\n\u001b[0;32m----> 1\u001b[0m np\u001b[38;5;241m.\u001b[39mmax(\u001b[43mrecord\u001b[49m[\u001b[38;5;124m\"\u001b[39m\u001b[38;5;124mplayerA\u001b[39m\u001b[38;5;124m\"\u001b[39m][record[\u001b[38;5;124m'\u001b[39m\u001b[38;5;124mplayerA\u001b[39m\u001b[38;5;124m'\u001b[39m]\u001b[38;5;241m<\u001b[39m\u001b[38;5;241m3.0\u001b[39m])\n",
      "\u001b[0;31mNameError\u001b[0m: name 'record' is not defined"
     ]
    }
   ],
   "source": [
    "np.max(record[\"playerA\"][record['playerA']<3.0])"
   ]
  },
  {
   "cell_type": "code",
   "execution_count": null,
   "id": "8b0a8b79",
   "metadata": {},
   "outputs": [],
   "source": [
    "record['playerA'][record['playerA']<3.0].max()\n",
    "#for문 등을 이용해서 장황하게 프로그램을 짜면 컴퓨팅이 오래걸린다.\n",
    "#따라서 라이브러리를 활용해서 function을 활용해서 처리속도를 줄여야한다.\n",
    "#파이썬은 되도록 주어진 모듈 안의 함수를 활용해야한다."
   ]
  }
 ],
 "metadata": {
  "kernelspec": {
   "display_name": "Python 3 (ipykernel)",
   "language": "python",
   "name": "python3"
  },
  "language_info": {
   "codemirror_mode": {
    "name": "ipython",
    "version": 3
   },
   "file_extension": ".py",
   "mimetype": "text/x-python",
   "name": "python",
   "nbconvert_exporter": "python",
   "pygments_lexer": "ipython3",
   "version": "3.10.9"
  }
 },
 "nbformat": 4,
 "nbformat_minor": 5
}
