{
 "cells": [
  {
   "cell_type": "markdown",
   "metadata": {},
   "source": [
    "Creating dog classification data"
   ]
  },
  {
   "cell_type": "code",
   "execution_count": 1,
   "metadata": {
    "execution": {
     "iopub.execute_input": "2023-05-22T10:05:26.864472Z",
     "iopub.status.busy": "2023-05-22T10:05:26.864067Z",
     "iopub.status.idle": "2023-05-22T10:05:27.342341Z",
     "shell.execute_reply": "2023-05-22T10:05:27.341091Z",
     "shell.execute_reply.started": "2023-05-22T10:05:26.864440Z"
    }
   },
   "outputs": [
    {
     "data": {
      "text/plain": [
       "<matplotlib.legend.Legend at 0x7c7263172f50>"
      ]
     },
     "execution_count": 1,
     "metadata": {},
     "output_type": "execute_result"
    },
    {
     "data": {
      "image/png": "[encoded data removed]",
      "text/plain": [
       "<Figure size 640x480 with 1 Axes>"
      ]
     },
     "metadata": {},
     "output_type": "display_data"
    }
   ],
   "source": [
    "import matplotlib.pyplot as plt\n",
    "dach_length = [55,57,64,63,58,49,54,61]\n",
    "dach_height = [30,31,36,30,33,25,37,34]\n",
    "jin_length  = [56,47,56,46,49,53,52,48]\n",
    "jin_height  = [52,52,50,53,50,53,49,54]\n",
    "\n",
    "newdata = [[59,35]]\n",
    "\n",
    "plt.scatter(dach_length,dach_height,c='r',label='Dachshund')\n",
    "plt.scatter(jin_length, jin_height, c='b',marker='^',label='Jindo dog')\n",
    "plt.scatter(newdata[0][0], newdata[0][1], c='g',marker='x',label='Unknown')\n",
    "\n",
    "plt.xlabel('Length')\n",
    "plt.ylabel('Height')\n",
    "plt.title('Dog size')\n",
    "plt.legend(loc='upper right')"
   ]
  },
  {
   "cell_type": "code",
   "execution_count": 2,
   "metadata": {
    "execution": {
     "iopub.execute_input": "2023-05-22T10:05:32.177709Z",
     "iopub.status.busy": "2023-05-22T10:05:32.177326Z",
     "iopub.status.idle": "2023-05-22T10:05:32.185311Z",
     "shell.execute_reply": "2023-05-22T10:05:32.184222Z",
     "shell.execute_reply.started": "2023-05-22T10:05:32.177662Z"
    }
   },
   "outputs": [],
   "source": [
    "import numpy as np\n",
    "\n",
    "d_data = np.column_stack((dach_length,dach_height))\n",
    "d_label = np.zeros(len(d_data))\n",
    "\n",
    "j_data = np.column_stack((jin_length, jin_height))\n",
    "j_label = np.ones(len(j_data))\n",
    "\n",
    "dogs   = np.concatenate([d_data, j_data])\n",
    "labels = np.concatenate([d_label,j_label])\n",
    "\n",
    "#print(d_data)\n",
    "#print(dogs)"
   ]
  },
  {
   "cell_type": "markdown",
   "metadata": {},
   "source": [
    "KNN classfication"
   ]
  },
  {
   "cell_type": "code",
   "execution_count": 3,
   "metadata": {
    "execution": {
     "iopub.execute_input": "2023-05-22T10:05:36.428590Z",
     "iopub.status.busy": "2023-05-22T10:05:36.428144Z",
     "iopub.status.idle": "2023-05-22T10:05:37.368181Z",
     "shell.execute_reply": "2023-05-22T10:05:37.367034Z",
     "shell.execute_reply.started": "2023-05-22T10:05:36.428556Z"
    }
   },
   "outputs": [
    {
     "name": "stderr",
     "output_type": "stream",
     "text": [
      "/opt/conda/lib/python3.10/site-packages/scipy/__init__.py:146: UserWarning: A NumPy version >=1.16.5 and <1.23.0 is required for this version of SciPy (detected version 1.23.5\n",
      "  warnings.warn(f\"A NumPy version >={np_minversion} and <{np_maxversion}\"\n"
     ]
    },
    {
     "name": "stdout",
     "output_type": "stream",
     "text": [
      "data [[59, 35]] , prediction result:  Dachshund\n"
     ]
    }
   ],
   "source": [
    "from sklearn.neighbors import KNeighborsClassifier\n",
    "\n",
    "dog_classes = {0:'Dachshund',1:'Jindo Dog'}\n",
    "k = 3\n",
    "knn = KNeighborsClassifier(n_neighbors = k)\n",
    "knn.fit(dogs,labels)\n",
    "y_pred = knn.predict(newdata)\n",
    "\n",
    "print('data',newdata,', prediction result: ',dog_classes[y_pred[0]])"
   ]
  },
  {
   "cell_type": "markdown",
   "metadata": {},
   "source": [
    "SVM"
   ]
  },
  {
   "cell_type": "code",
   "execution_count": 4,
   "metadata": {
    "execution": {
     "iopub.execute_input": "2023-05-22T10:05:51.486993Z",
     "iopub.status.busy": "2023-05-22T10:05:51.486590Z",
     "iopub.status.idle": "2023-05-22T10:05:51.517850Z",
     "shell.execute_reply": "2023-05-22T10:05:51.516755Z",
     "shell.execute_reply.started": "2023-05-22T10:05:51.486964Z"
    }
   },
   "outputs": [
    {
     "data": {
      "text/html": [
       "<style>#sk-container-id-1 {color: black;background-color: white;}#sk-container-id-1 pre{padding: 0;}#sk-container-id-1 div.sk-toggleable {background-color: white;}#sk-container-id-1 label.sk-toggleable__label {cursor: pointer;display: block;width: 100%;margin-bottom: 0;padding: 0.3em;box-sizing: border-box;text-align: center;}#sk-container-id-1 label.sk-toggleable__label-arrow:before {content: \"▸\";float: left;margin-right: 0.25em;color: #696969;}#sk-container-id-1 label.sk-toggleable__label-arrow:hover:before {color: black;}#sk-container-id-1 div.sk-estimator:hover label.sk-toggleable__label-arrow:before {color: black;}#sk-container-id-1 div.sk-toggleable__content {max-height: 0;max-width: 0;overflow: hidden;text-align: left;background-color: #f0f8ff;}#sk-container-id-1 div.sk-toggleable__content pre {margin: 0.2em;color: black;border-radius: 0.25em;background-color: #f0f8ff;}#sk-container-id-1 input.sk-toggleable__control:checked~div.sk-toggleable__content {max-height: 200px;max-width: 100%;overflow: auto;}#sk-container-id-1 input.sk-toggleable__control:checked~label.sk-toggleable__label-arrow:before {content: \"▾\";}#sk-container-id-1 div.sk-estimator input.sk-toggleable__control:checked~label.sk-toggleable__label {background-color: #d4ebff;}#sk-container-id-1 div.sk-label input.sk-toggleable__control:checked~label.sk-toggleable__label {background-color: #d4ebff;}#sk-container-id-1 input.sk-hidden--visually {border: 0;clip: rect(1px 1px 1px 1px);clip: rect(1px, 1px, 1px, 1px);height: 1px;margin: -1px;overflow: hidden;padding: 0;position: absolute;width: 1px;}#sk-container-id-1 div.sk-estimator {font-family: monospace;background-color: #f0f8ff;border: 1px dotted black;border-radius: 0.25em;box-sizing: border-box;margin-bottom: 0.5em;}#sk-container-id-1 div.sk-estimator:hover {background-color: #d4ebff;}#sk-container-id-1 div.sk-parallel-item::after {content: \"\";width: 100%;border-bottom: 1px solid gray;flex-grow: 1;}#sk-container-id-1 div.sk-label:hover label.sk-toggleable__label {background-color: #d4ebff;}#sk-container-id-1 div.sk-serial::before {content: \"\";position: absolute;border-left: 1px solid gray;box-sizing: border-box;top: 0;bottom: 0;left: 50%;z-index: 0;}#sk-container-id-1 div.sk-serial {display: flex;flex-direction: column;align-items: center;background-color: white;padding-right: 0.2em;padding-left: 0.2em;position: relative;}#sk-container-id-1 div.sk-item {position: relative;z-index: 1;}#sk-container-id-1 div.sk-parallel {display: flex;align-items: stretch;justify-content: center;background-color: white;position: relative;}#sk-container-id-1 div.sk-item::before, #sk-container-id-1 div.sk-parallel-item::before {content: \"\";position: absolute;border-left: 1px solid gray;box-sizing: border-box;top: 0;bottom: 0;left: 50%;z-index: -1;}#sk-container-id-1 div.sk-parallel-item {display: flex;flex-direction: column;z-index: 1;position: relative;background-color: white;}#sk-container-id-1 div.sk-parallel-item:first-child::after {align-self: flex-end;width: 50%;}#sk-container-id-1 div.sk-parallel-item:last-child::after {align-self: flex-start;width: 50%;}#sk-container-id-1 div.sk-parallel-item:only-child::after {width: 0;}#sk-container-id-1 div.sk-dashed-wrapped {border: 1px dashed gray;margin: 0 0.4em 0.5em 0.4em;box-sizing: border-box;padding-bottom: 0.4em;background-color: white;}#sk-container-id-1 div.sk-label label {font-family: monospace;font-weight: bold;display: inline-block;line-height: 1.2em;}#sk-container-id-1 div.sk-label-container {text-align: center;}#sk-container-id-1 div.sk-container {/* jupyter's `normalize.less` sets `[hidden] { display: none; }` but bootstrap.min.css set `[hidden] { display: none !important; }` so we also need the `!important` here to be able to override the default hidden behavior on the sphinx rendered scikit-learn.org. See: https://github.com/scikit-learn/scikit-learn/issues/21755 */display: inline-block !important;position: relative;}#sk-container-id-1 div.sk-text-repr-fallback {display: none;}</style><div id=\"sk-container-id-1\" class=\"sk-top-container\"><div class=\"sk-text-repr-fallback\"><pre>Pipeline(steps=[(&#x27;scaler&#x27;, StandardScaler()),\n",
       "                (&#x27;linearSVC&#x27;, LinearSVC(C=1, loss=&#x27;hinge&#x27;))])</pre><b>In a Jupyter environment, please rerun this cell to show the HTML representation or trust the notebook. <br />On GitHub, the HTML representation is unable to render, please try loading this page with nbviewer.org.</b></div><div class=\"sk-container\" hidden><div class=\"sk-item sk-dashed-wrapped\"><div class=\"sk-label-container\"><div class=\"sk-label sk-toggleable\"><input class=\"sk-toggleable__control sk-hidden--visually\" id=\"sk-estimator-id-1\" type=\"checkbox\" ><label for=\"sk-estimator-id-1\" class=\"sk-toggleable__label sk-toggleable__label-arrow\">Pipeline</label><div class=\"sk-toggleable__content\"><pre>Pipeline(steps=[(&#x27;scaler&#x27;, StandardScaler()),\n",
       "                (&#x27;linearSVC&#x27;, LinearSVC(C=1, loss=&#x27;hinge&#x27;))])</pre></div></div></div><div class=\"sk-serial\"><div class=\"sk-item\"><div class=\"sk-estimator sk-toggleable\"><input class=\"sk-toggleable__control sk-hidden--visually\" id=\"sk-estimator-id-2\" type=\"checkbox\" ><label for=\"sk-estimator-id-2\" class=\"sk-toggleable__label sk-toggleable__label-arrow\">StandardScaler</label><div class=\"sk-toggleable__content\"><pre>StandardScaler()</pre></div></div></div><div class=\"sk-item\"><div class=\"sk-estimator sk-toggleable\"><input class=\"sk-toggleable__control sk-hidden--visually\" id=\"sk-estimator-id-3\" type=\"checkbox\" ><label for=\"sk-estimator-id-3\" class=\"sk-toggleable__label sk-toggleable__label-arrow\">LinearSVC</label><div class=\"sk-toggleable__content\"><pre>LinearSVC(C=1, loss=&#x27;hinge&#x27;)</pre></div></div></div></div></div></div></div>"
      ],
      "text/plain": [
       "Pipeline(steps=[('scaler', StandardScaler()),\n",
       "                ('linearSVC', LinearSVC(C=1, loss='hinge'))])"
      ]
     },
     "execution_count": 4,
     "metadata": {},
     "output_type": "execute_result"
    }
   ],
   "source": [
    "from sklearn.pipeline import Pipeline\n",
    "from sklearn.preprocessing import StandardScaler\n",
    "from sklearn.svm import LinearSVC\n",
    "\n",
    "svm = Pipeline([('scaler',StandardScaler()),\n",
    "                ('linearSVC',LinearSVC(C=1,loss='hinge'))])\n",
    "svm.fit(dogs,labels)"
   ]
  },
  {
   "cell_type": "code",
   "execution_count": 5,
   "metadata": {
    "execution": {
     "iopub.execute_input": "2023-05-22T10:05:56.123983Z",
     "iopub.status.busy": "2023-05-22T10:05:56.123513Z",
     "iopub.status.idle": "2023-05-22T10:05:56.133311Z",
     "shell.execute_reply": "2023-05-22T10:05:56.131809Z",
     "shell.execute_reply.started": "2023-05-22T10:05:56.123950Z"
    }
   },
   "outputs": [
    {
     "name": "stdout",
     "output_type": "stream",
     "text": [
      "[[-0.16876933  1.27579701]]\n",
      "[0.03119845]\n",
      "[[ 0.13882344 -1.15746348]\n",
      " [ 0.50901929 -1.05947716]\n",
      " [ 1.80470477 -0.56954552]\n",
      " [ 1.61960685 -1.15746348]\n",
      " [ 0.69411722 -0.8635045 ]\n",
      " [-0.97176411 -1.64739511]\n",
      " [-0.04627448 -0.4715592 ]\n",
      " [ 1.249411   -0.76551818]\n",
      " [ 0.32392137  0.9982357 ]\n",
      " [-1.34195996  0.9982357 ]\n",
      " [ 0.32392137  0.80226305]\n",
      " [-1.52705788  1.09622203]\n",
      " [-0.97176411  0.80226305]\n",
      " [-0.23137241  1.09622203]\n",
      " [-0.41647033  0.70427672]\n",
      " [-1.15686203  1.19420835]]\n"
     ]
    }
   ],
   "source": [
    "print(svm.named_steps['linearSVC'].coef_)\n",
    "print(svm.named_steps['linearSVC'].intercept_)\n",
    "print(svm.named_steps['scaler'].transform(dogs))\n",
    "\n",
    "w=svm.named_steps['linearSVC'].coef_\n",
    "b=svm.named_steps['linearSVC'].intercept_\n",
    "dt=svm.named_steps['scaler'].transform(dogs)"
   ]
  },
  {
   "cell_type": "code",
   "execution_count": 6,
   "metadata": {
    "execution": {
     "iopub.execute_input": "2023-05-22T10:06:14.748552Z",
     "iopub.status.busy": "2023-05-22T10:06:14.747220Z",
     "iopub.status.idle": "2023-05-22T10:06:15.026608Z",
     "shell.execute_reply": "2023-05-22T10:06:15.025475Z",
     "shell.execute_reply.started": "2023-05-22T10:06:14.748503Z"
    }
   },
   "outputs": [
    {
     "data": {
      "text/plain": [
       "<matplotlib.collections.PathCollection at 0x7c724fb0eec0>"
      ]
     },
     "execution_count": 6,
     "metadata": {},
     "output_type": "execute_result"
    },
    {
     "data": {
      "image/png": "[encoded data removed]",
      "text/plain": [
       "<Figure size 640x480 with 1 Axes>"
      ]
     },
     "metadata": {},
     "output_type": "display_data"
    }
   ],
   "source": [
    "x=np.linspace(np.min(dt[:,0]),np.max(dt[:,0]))\n",
    "y = -(w[0,0]/w[0,1])*x - b/w[0,1]\n",
    "plt.plot(x,y)\n",
    "\n",
    "plt.scatter(dt[:8,0],dt[:8,1],c='r')\n",
    "plt.scatter(dt[8:,0],dt[8:,1],c='g')"
   ]
  },
  {
   "cell_type": "code",
   "execution_count": 7,
   "metadata": {
    "execution": {
     "iopub.execute_input": "2023-05-22T10:06:18.251841Z",
     "iopub.status.busy": "2023-05-22T10:06:18.251398Z",
     "iopub.status.idle": "2023-05-22T10:06:18.260822Z",
     "shell.execute_reply": "2023-05-22T10:06:18.259520Z",
     "shell.execute_reply.started": "2023-05-22T10:06:18.251806Z"
    }
   },
   "outputs": [
    {
     "name": "stdout",
     "output_type": "stream",
     "text": [
      "[0.]\n",
      "[1.]\n"
     ]
    }
   ],
   "source": [
    "newdata1 = [[59,35]]\n",
    "newdata2 = [[53,54]]\n",
    "\n",
    "print(svm.predict(newdata1))\n",
    "print(svm.predict(newdata2))"
   ]
  }
 ],
 "metadata": {
  "kernelspec": {
   "display_name": "Python 3 (ipykernel)",
   "language": "python",
   "name": "python3"
  },
  "language_info": {
   "codemirror_mode": {
    "name": "ipython",
    "version": 3
   },
   "file_extension": ".py",
   "mimetype": "text/x-python",
   "name": "python",
   "nbconvert_exporter": "python",
   "pygments_lexer": "ipython3",
   "version": "3.10.9"
  }
 },
 "nbformat": 4,
 "nbformat_minor": 4
}
