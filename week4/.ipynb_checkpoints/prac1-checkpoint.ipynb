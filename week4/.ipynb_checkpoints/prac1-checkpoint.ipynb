{
 "cells": [
  {
   "cell_type": "code",
   "execution_count": 7,
   "id": "d8d3bd33",
   "metadata": {},
   "outputs": [
    {
     "name": "stdout",
     "output_type": "stream",
     "text": [
      "selected size is  8\n"
     ]
    },
    {
     "data": {
      "text/plain": [
       "array([[ 1,  2,  3,  4,  5,  6,  7,  8],\n",
       "       [ 9, 10, 11, 12, 13, 14, 15, 16],\n",
       "       [17, 18, 19, 20, 21, 22, 23, 24],\n",
       "       [25, 26, 27, 28, 29, 30, 31, 32],\n",
       "       [33, 34, 35, 36, 37, 38, 39, 40],\n",
       "       [41, 42, 43, 44, 45, 46, 47, 48],\n",
       "       [49, 50, 51, 52, 53, 54, 55, 56],\n",
       "       [57, 58, 59, 60, 61, 62, 63, 64]])"
      ]
     },
     "execution_count": 7,
     "metadata": {},
     "output_type": "execute_result"
    }
   ],
   "source": [
    "import numpy as np\n",
    "SIZE = 8\n",
    "print('selected size is ', SIZE)\n",
    "myArr = np.arange(1,SIZE*SIZE+1,1)\n",
    "myArr.resize(SIZE,SIZE)\n",
    "myArr"
   ]
  },
  {
   "cell_type": "code",
   "execution_count": 8,
   "id": "f3d84d94",
   "metadata": {},
   "outputs": [
    {
     "data": {
      "text/plain": [
       "array([[37, 38, 39, 40],\n",
       "       [45, 46, 47, 48],\n",
       "       [53, 54, 55, 56],\n",
       "       [61, 62, 63, 64]])"
      ]
     },
     "execution_count": 8,
     "metadata": {},
     "output_type": "execute_result"
    }
   ],
   "source": [
    "myArr[SIZE//2:,SIZE//2:]"
   ]
  },
  {
   "cell_type": "code",
   "execution_count": 13,
   "id": "4fd282cf",
   "metadata": {},
   "outputs": [
    {
     "name": "stdout",
     "output_type": "stream",
     "text": [
      "[[248 126 155]\n",
      " [ 39 196 194]\n",
      " [125   8 105]]\n",
      "[[ 39 147  97]\n",
      " [179 231  79]\n",
      " [120 170 245]]\n",
      "[[False False  True]\n",
      " [False  True False]\n",
      " [False  True  True]]\n"
     ]
    },
    {
     "data": {
      "text/plain": [
       "array([155, 196,   8, 105])"
      ]
     },
     "execution_count": 13,
     "metadata": {},
     "output_type": "execute_result"
    }
   ],
   "source": [
    "arr1 = np.random.randint(0,255,size = (3,3))\n",
    "print(arr1)\n",
    "arr2 = np.random.randint(0,255,size = (3,3))\n",
    "print(arr2)\n",
    "condArr = np.random.choice([True,False],size = (3,3))\n",
    "print(condArr)\n",
    "np.where(condArr,arr1,arr2)\n",
    "#where 은 삼항연산자와 같다. 처음 매개변수는 조건문이다.\n",
    "#만약 조건문이 참이면 두번째 매개변수를 실행하고, 조건문이 거짓이면 세번째 매개변수를 실행한다.\n",
    "#arr1[condArr]"
   ]
  }
 ],
 "metadata": {
  "kernelspec": {
   "display_name": "Python 3 (ipykernel)",
   "language": "python",
   "name": "python3"
  },
  "language_info": {
   "codemirror_mode": {
    "name": "ipython",
    "version": 3
   },
   "file_extension": ".py",
   "mimetype": "text/x-python",
   "name": "python",
   "nbconvert_exporter": "python",
   "pygments_lexer": "ipython3",
   "version": "3.10.9"
  }
 },
 "nbformat": 4,
 "nbformat_minor": 5
}
