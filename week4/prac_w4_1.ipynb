{
 "cells": [
  {
   "cell_type": "code",
   "execution_count": 2,
   "metadata": {
    "_cell_guid": "b1076dfc-b9ad-4769-8c92-a6c4dae69d19",
    "_uuid": "8f2839f25d086af736a60e9eeb907d3b93b6e0e5",
    "execution": {
     "iopub.execute_input": "2023-03-27T04:46:32.698105Z",
     "iopub.status.busy": "2023-03-27T04:46:32.696476Z",
     "iopub.status.idle": "2023-03-27T04:46:32.709360Z",
     "shell.execute_reply": "2023-03-27T04:46:32.707871Z",
     "shell.execute_reply.started": "2023-03-27T04:46:32.698045Z"
    }
   },
   "outputs": [
    {
     "name": "stdout",
     "output_type": "stream",
     "text": [
      "selected size is  8\n"
     ]
    },
    {
     "data": {
      "text/plain": [
       "array([[ 1,  2,  3,  4,  5,  6,  7,  8],\n",
       "       [ 9, 10, 11, 12, 13, 14, 15, 16],\n",
       "       [17, 18, 19, 20, 21, 22, 23, 24],\n",
       "       [25, 26, 27, 28, 29, 30, 31, 32],\n",
       "       [33, 34, 35, 36, 37, 38, 39, 40],\n",
       "       [41, 42, 43, 44, 45, 46, 47, 48],\n",
       "       [49, 50, 51, 52, 53, 54, 55, 56],\n",
       "       [57, 58, 59, 60, 61, 62, 63, 64]])"
      ]
     },
     "execution_count": 2,
     "metadata": {},
     "output_type": "execute_result"
    }
   ],
   "source": [
    "import numpy as np\n",
    "SIZE = 8\n",
    "print('selected size is ', SIZE)\n",
    "myArr = np.arange(1,SIZE*SIZE+1,1)\n",
    "myArr.resize(SIZE,SIZE)\n",
    "myArr"
   ]
  },
  {
   "cell_type": "code",
   "execution_count": 3,
   "metadata": {
    "execution": {
     "iopub.execute_input": "2023-03-27T04:46:32.712842Z",
     "iopub.status.busy": "2023-03-27T04:46:32.711654Z",
     "iopub.status.idle": "2023-03-27T04:46:32.721646Z",
     "shell.execute_reply": "2023-03-27T04:46:32.720281Z",
     "shell.execute_reply.started": "2023-03-27T04:46:32.712794Z"
    }
   },
   "outputs": [
    {
     "data": {
      "text/plain": [
       "array([[37, 38, 39, 40],\n",
       "       [45, 46, 47, 48],\n",
       "       [53, 54, 55, 56],\n",
       "       [61, 62, 63, 64]])"
      ]
     },
     "execution_count": 3,
     "metadata": {},
     "output_type": "execute_result"
    }
   ],
   "source": [
    "myArr[SIZE//2:,SIZE//2:]"
   ]
  },
  {
   "cell_type": "code",
   "execution_count": 18,
   "metadata": {
    "execution": {
     "iopub.execute_input": "2023-03-27T04:54:18.980727Z",
     "iopub.status.busy": "2023-03-27T04:54:18.979422Z",
     "iopub.status.idle": "2023-03-27T04:54:18.993943Z",
     "shell.execute_reply": "2023-03-27T04:54:18.992368Z",
     "shell.execute_reply.started": "2023-03-27T04:54:18.980665Z"
    }
   },
   "outputs": [
    {
     "name": "stdout",
     "output_type": "stream",
     "text": [
      "[[ 31  22 217]\n",
      " [ 18 133  95]\n",
      " [ 74 192 161]]\n",
      "[[249 242 197]\n",
      " [167 127  75]\n",
      " [108 127 226]]\n",
      "[[False False False]\n",
      " [ True False False]\n",
      " [False False False]]\n"
     ]
    },
    {
     "data": {
      "text/plain": [
       "array([[249, 242, 217],\n",
       "       [167, 133,  95],\n",
       "       [108, 192, 226]])"
      ]
     },
     "execution_count": 18,
     "metadata": {},
     "output_type": "execute_result"
    }
   ],
   "source": [
    "arr1 = np.random.randint(0,255,size=(3,3))\n",
    "print(arr1)\n",
    "arr2 = np.random.randint(0,255,size=(3,3))\n",
    "print(arr2)\n",
    "condArr = np.random.choice([True,False],size=(3,3))\n",
    "print(condArr)\n",
    "np.where(condArr,arr1,arr2)"
   ]
  },
  {
   "cell_type": "code",
   "execution_count": null,
   "metadata": {},
   "outputs": [],
   "source": []
  }
 ],
 "metadata": {
  "kernelspec": {
   "display_name": "Python 3 (ipykernel)",
   "language": "python",
   "name": "python3"
  },
  "language_info": {
   "codemirror_mode": {
    "name": "ipython",
    "version": 3
   },
   "file_extension": ".py",
   "mimetype": "text/x-python",
   "name": "python",
   "nbconvert_exporter": "python",
   "pygments_lexer": "ipython3",
   "version": "3.10.9"
  }
 },
 "nbformat": 4,
 "nbformat_minor": 4
}
