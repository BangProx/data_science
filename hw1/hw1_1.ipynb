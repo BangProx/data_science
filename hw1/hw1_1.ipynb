{
 "cells": [
  {
   "cell_type": "code",
   "execution_count": 34,
   "id": "5431aec6",
   "metadata": {},
   "outputs": [
    {
     "name": "stdout",
     "output_type": "stream",
     "text": [
      "          0     1     2     3     4     5     6\n",
      "Model     A     B     C     D     E     F     G\n",
      "HP      130   250   190   300   210   220   170\n",
      "GW     1900  2600  2200  2900  2400  2300  2400\n",
      "          0     1     2     3\n",
      "Model     A     B     C     D\n",
      "HP      120   220   120   200\n",
      "GW     1900  2100  1500  2900\n"
     ]
    }
   ],
   "source": [
    "import pandas as pd\n",
    "import numpy as np\n",
    "\n",
    "df_s = pd.DataFrame({\n",
    "                    'Model' : ['A','B','C','D','E','F','G'],\n",
    "                    'HP'    : [130,250,190,300,210,220,170],\n",
    "                    'GW'    : [1900,2600,2200,2900,2400,2300,2400]\n",
    "                    })\n",
    "df_h = pd.DataFrame({\n",
    "                    'Model' : ['A','B','C','D'],\n",
    "                    'HP'    : [120,220,120,200],\n",
    "                    'GW'    : [1900,2100,1500,2900]\n",
    "                    })\n",
    "df_s = df_s.T\n",
    "df_h = df_h.T\n",
    "print(df_s)\n",
    "print(df_h)"
   ]
  },
  {
   "cell_type": "code",
   "execution_count": 48,
   "id": "4a2476f3",
   "metadata": {},
   "outputs": [
    {
     "data": {
      "text/html": [
       "<div>\n",
       "<style scoped>\n",
       "    .dataframe tbody tr th:only-of-type {\n",
       "        vertical-align: middle;\n",
       "    }\n",
       "\n",
       "    .dataframe tbody tr th {\n",
       "        vertical-align: top;\n",
       "    }\n",
       "\n",
       "    .dataframe thead th {\n",
       "        text-align: right;\n",
       "    }\n",
       "</style>\n",
       "<table border=\"1\" class=\"dataframe\">\n",
       "  <thead>\n",
       "    <tr style=\"text-align: right;\">\n",
       "      <th></th>\n",
       "      <th>0</th>\n",
       "      <th>1</th>\n",
       "      <th>2</th>\n",
       "      <th>3</th>\n",
       "      <th>4</th>\n",
       "      <th>5</th>\n",
       "      <th>6</th>\n",
       "      <th>maker</th>\n",
       "    </tr>\n",
       "  </thead>\n",
       "  <tbody>\n",
       "    <tr>\n",
       "      <th>Model</th>\n",
       "      <td>A</td>\n",
       "      <td>B</td>\n",
       "      <td>C</td>\n",
       "      <td>D</td>\n",
       "      <td>E</td>\n",
       "      <td>F</td>\n",
       "      <td>G</td>\n",
       "      <td>S moter</td>\n",
       "    </tr>\n",
       "    <tr>\n",
       "      <th>HP</th>\n",
       "      <td>130</td>\n",
       "      <td>250</td>\n",
       "      <td>190</td>\n",
       "      <td>300</td>\n",
       "      <td>210</td>\n",
       "      <td>220</td>\n",
       "      <td>170</td>\n",
       "      <td>S moter</td>\n",
       "    </tr>\n",
       "    <tr>\n",
       "      <th>GW</th>\n",
       "      <td>1900</td>\n",
       "      <td>2600</td>\n",
       "      <td>2200</td>\n",
       "      <td>2900</td>\n",
       "      <td>2400</td>\n",
       "      <td>2300</td>\n",
       "      <td>2400</td>\n",
       "      <td>S moter</td>\n",
       "    </tr>\n",
       "    <tr>\n",
       "      <th>Model</th>\n",
       "      <td>A</td>\n",
       "      <td>B</td>\n",
       "      <td>C</td>\n",
       "      <td>D</td>\n",
       "      <td>NaN</td>\n",
       "      <td>NaN</td>\n",
       "      <td>NaN</td>\n",
       "      <td>H moter</td>\n",
       "    </tr>\n",
       "    <tr>\n",
       "      <th>HP</th>\n",
       "      <td>120</td>\n",
       "      <td>220</td>\n",
       "      <td>120</td>\n",
       "      <td>200</td>\n",
       "      <td>NaN</td>\n",
       "      <td>NaN</td>\n",
       "      <td>NaN</td>\n",
       "      <td>H moter</td>\n",
       "    </tr>\n",
       "    <tr>\n",
       "      <th>GW</th>\n",
       "      <td>1900</td>\n",
       "      <td>2100</td>\n",
       "      <td>1500</td>\n",
       "      <td>2900</td>\n",
       "      <td>NaN</td>\n",
       "      <td>NaN</td>\n",
       "      <td>NaN</td>\n",
       "      <td>H moter</td>\n",
       "    </tr>\n",
       "  </tbody>\n",
       "</table>\n",
       "</div>"
      ],
      "text/plain": [
       "          0     1     2     3     4     5     6    maker\n",
       "Model     A     B     C     D     E     F     G  S moter\n",
       "HP      130   250   190   300   210   220   170  S moter\n",
       "GW     1900  2600  2200  2900  2400  2300  2400  S moter\n",
       "Model     A     B     C     D   NaN   NaN   NaN  H moter\n",
       "HP      120   220   120   200   NaN   NaN   NaN  H moter\n",
       "GW     1900  2100  1500  2900   NaN   NaN   NaN  H moter"
      ]
     },
     "execution_count": 48,
     "metadata": {},
     "output_type": "execute_result"
    }
   ],
   "source": [
    "df_s['maker'] = 'S moter'\n",
    "df_h['maker'] = 'H moter'\n",
    "new_df = pd.concat((df_s,df_h))\n",
    "new_df"
   ]
  },
  {
   "cell_type": "code",
   "execution_count": 59,
   "id": "bd1a3544",
   "metadata": {},
   "outputs": [
    {
     "name": "stdout",
     "output_type": "stream",
     "text": [
      "S moter의 HP/GW의 평균 : 0.08691033117964389 \n",
      "H moter의 HP/GW의 평균 : 0.07922132918503155\n",
      "S moter의 HP/GW가 H moter의 HP/GW 보다 평균적으로 0.01정도 높다.\n"
     ]
    }
   ],
   "source": [
    "pwr_s = []\n",
    "pwr_h = []\n",
    "for i in range(7):\n",
    "    pwr_s.append(new_df.iat[1,i]/new_df.iat[2,i])\n",
    "for i in range(4):\n",
    "    pwr_h.append(new_df.iat[4,i]/new_df.iat[5,i])\n",
    "print('S moter의 HP/GW의 평균 :', sum(pwr_s)/7, '\\nH moter의 HP/GW의 평균 :', sum(pwr_h)/4)\n",
    "print('S moter의 HP/GW가 H moter의 HP/GW 보다 평균적으로 0.01정도 높다.')"
   ]
  }
 ],
 "metadata": {
  "kernelspec": {
   "display_name": "Python 3 (ipykernel)",
   "language": "python",
   "name": "python3"
  },
  "language_info": {
   "codemirror_mode": {
    "name": "ipython",
    "version": 3
   },
   "file_extension": ".py",
   "mimetype": "text/x-python",
   "name": "python",
   "nbconvert_exporter": "python",
   "pygments_lexer": "ipython3",
   "version": "3.10.9"
  }
 },
 "nbformat": 4,
 "nbformat_minor": 5
}
